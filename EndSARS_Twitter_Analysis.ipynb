{
 "cells": [
  {
   "cell_type": "markdown",
   "metadata": {},
   "source": [
    "# EndSARS Twitter Analysis\n",
    "\n",
    "Sentiment and Network Analysis of the #EndSARS protest movement that occured in 2020 in Nigeria. "
   ]
  },
  {
   "cell_type": "markdown",
   "metadata": {},
   "source": [
    "## SetUp"
   ]
  },
  {
   "cell_type": "markdown",
   "metadata": {},
   "source": [
    "### Import Python Libraries"
   ]
  },
  {
   "cell_type": "code",
   "execution_count": 1,
   "metadata": {},
   "outputs": [],
   "source": [
    "import pandas as pd\n",
    "import numpy as np\n",
    "import seaborn as sns\n",
    "import yaml\n",
    "import os\n",
    "import json\n",
    "import re\n",
    "import ast\n",
    "import csv\n",
    "import gensim\n",
    "import searchtweets\n",
    "import fasttext as ft\n",
    "from sklearn.model_selection import train_test_split\n",
    "import numpy as np\n",
    "\n",
    "%matplotlib inline"
   ]
  },
  {
   "cell_type": "markdown",
   "metadata": {},
   "source": [
    "### Connecting to Twitter\n",
    "\n",
    "I suggest you use Twitter's official searchtweets api which is easy to use and reliable.\n",
    "<br>In order to get past the tweets retrieval limit, you might also need to  use the premium search api."
   ]
  },
  {
   "cell_type": "markdown",
   "metadata": {},
   "source": [
    "- Create a hidden yaml file (.yaml) which contains details about your twitter api keys\n",
    "- Create a variable that stores the twitter api credentials from the hiddem yaml file above."
   ]
  },
  {
   "cell_type": "code",
   "execution_count": null,
   "metadata": {},
   "outputs": [],
   "source": [
    "from searchtweets import ResultStream, gen_request_parameters, load_credentials\n",
    "\n",
    "search_args = load_credentials(\".twitter_keys.yml\",\n",
    "                                       yaml_key=\"search_tweets_v2_recent\",\n",
    "                                       env_overwrite=False)\n",
    "\n",
    "query = gen_request_parameters(\"EndSARS\",results_per_call=10,start_time=\"2021-03-05\",\n",
    "    tweet_fields=('geo,public_metrics,context_annotations,created_at,author_id,possibly_sensitive,referenced_tweets'),\n",
    "    user_fields=('created_at,description,entities,id,location,public_metrics,username'),\n",
    "    place_fields=('country,geo,id,name,place_type'),\n",
    "    expansions=('author_id,entities.mentions.username,referenced_tweets.id,referenced_tweets.id.author_id'),\n",
    "    stringify=True)\n",
    "\n",
    "print(query)"
   ]
  },
  {
   "cell_type": "code",
   "execution_count": null,
   "metadata": {},
   "outputs": [],
   "source": [
    "from searchtweets import collect_results\n",
    "\n",
    "tweets = collect_results(query,\n",
    "                         max_tweets=10,\n",
    "                         result_stream_args=search_args) # change this if you need to"
   ]
  },
  {
   "cell_type": "code",
   "execution_count": null,
   "metadata": {},
   "outputs": [],
   "source": [
    "[print(tweet, end='\\n\\n') for tweet in tweets[0:10]]"
   ]
  },
  {
   "cell_type": "code",
   "execution_count": null,
   "metadata": {},
   "outputs": [],
   "source": [
    "tweets_df = pd.DataFrame(tweets)"
   ]
  },
  {
   "cell_type": "code",
   "execution_count": null,
   "metadata": {},
   "outputs": [],
   "source": [
    "tweets_df[:4]"
   ]
  },
  {
   "cell_type": "code",
   "execution_count": null,
   "metadata": {},
   "outputs": [],
   "source": [
    "tweets_df.to_pickle('./endsars_tweets.pkl')"
   ]
  },
  {
   "cell_type": "code",
   "execution_count": 304,
   "metadata": {},
   "outputs": [],
   "source": [
    "from searchtweets import ResultStream, gen_request_parameters, load_credentials\n",
    "from searchtweets import collect_results\n",
    "\n",
    "\n",
    "def retrieve_tweets(search_words, start_date, end_date):\n",
    "    \n",
    "    search_args = load_credentials(\".twitter_keys.yml\",\n",
    "                                       yaml_key=\"search_tweets_v2\",\n",
    "                                       env_overwrite=False)\n",
    "    \n",
    "    query = gen_request_parameters(search_words, results_per_call=100, from_date = start_date, to_date = end_date,\n",
    "    tweet_fields=('author_id,context_annotations,created_at,entities,geo,id,public_metrics,possibly_sensitive,referenced_tweets,text'),\n",
    "    user_fields=('id,location,name,public_metrics,username,verified'),\n",
    "    place_fields=('country,full_name,geo,name,place_type'),\n",
    "    expansions=('author_id,referenced_tweets.id,geo.place_id,referenced_tweets.id.author_id'))\n",
    "\n",
    "    tweets = collect_results(query,\n",
    "                         max_tweets=10000,\n",
    "                         result_stream_args=search_args)\n",
    "    \n",
    "    return tweets"
   ]
  },
  {
   "cell_type": "code",
   "execution_count": 305,
   "metadata": {},
   "outputs": [],
   "source": [
    "# Initialise these variables:\n",
    "search_words = \"#EndSARS OR #Soro Soke OR #Police Brutality OR #lekki toll gate OR #anti-robbery sqaud OR #lekki massacre OR #End bad governance OR #End swat OR #buhari is a bad boy\"\n",
    "start_date = \"2020-10-01\"\n",
    "end_date = \"2020-10-21\"\n",
    "\n",
    "# Call the function scraptweets\n",
    "#retrieve_tweets(search_words, start_date, end_date)"
   ]
  },
  {
   "cell_type": "code",
   "execution_count": 306,
   "metadata": {},
   "outputs": [],
   "source": [
    "def create_tweets_df(tweets):\n",
    "    \n",
    "    tweets_df = pd.DataFrame(tweets)\n",
    "    tweets_df.to_pickle('./new_endsars_tweets(look_up).pkl')\n",
    "    \n",
    "    return tweets_df"
   ]
  },
  {
   "cell_type": "code",
   "execution_count": null,
   "metadata": {},
   "outputs": [],
   "source": [
    "look_up_df = pd,read_pickel(./new_endsars_tweets(look_up).pkl)"
   ]
  },
  {
   "cell_type": "code",
   "execution_count": 307,
   "metadata": {},
   "outputs": [
    {
     "ename": "TypeError",
     "evalue": "gen_request_parameters() got an unexpected keyword argument 'from_date'",
     "output_type": "error",
     "traceback": [
      "\u001b[1;31m---------------------------------------------------------------------------\u001b[0m",
      "\u001b[1;31mTypeError\u001b[0m                                 Traceback (most recent call last)",
      "\u001b[1;32m<ipython-input-307-5d8a856b60a2>\u001b[0m in \u001b[0;36m<module>\u001b[1;34m\u001b[0m\n\u001b[0;32m      1\u001b[0m \u001b[1;31m# Initialise these variables:\u001b[0m\u001b[1;33m\u001b[0m\u001b[1;33m\u001b[0m\u001b[1;33m\u001b[0m\u001b[0m\n\u001b[1;32m----> 2\u001b[1;33m \u001b[0mtweets\u001b[0m\u001b[1;33m=\u001b[0m\u001b[0mretrieve_tweets\u001b[0m\u001b[1;33m(\u001b[0m\u001b[0msearch_words\u001b[0m\u001b[1;33m,\u001b[0m \u001b[0mstart_date\u001b[0m\u001b[1;33m,\u001b[0m \u001b[0mend_date\u001b[0m\u001b[1;33m)\u001b[0m\u001b[1;33m\u001b[0m\u001b[1;33m\u001b[0m\u001b[0m\n\u001b[0m\u001b[0;32m      3\u001b[0m \u001b[1;33m\u001b[0m\u001b[0m\n\u001b[0;32m      4\u001b[0m \u001b[1;31m# Call the function create tweets into dataframe\u001b[0m\u001b[1;33m\u001b[0m\u001b[1;33m\u001b[0m\u001b[1;33m\u001b[0m\u001b[0m\n\u001b[0;32m      5\u001b[0m \u001b[0mcreate_tweets_df\u001b[0m\u001b[1;33m(\u001b[0m\u001b[0mtweets\u001b[0m\u001b[1;33m)\u001b[0m\u001b[1;33m\u001b[0m\u001b[1;33m\u001b[0m\u001b[0m\n",
      "\u001b[1;32m<ipython-input-304-6ea54aa04397>\u001b[0m in \u001b[0;36mretrieve_tweets\u001b[1;34m(search_words, start_date, end_date)\u001b[0m\n\u001b[0;32m     13\u001b[0m     \u001b[0muser_fields\u001b[0m\u001b[1;33m=\u001b[0m\u001b[1;33m(\u001b[0m\u001b[1;34m'id,location,name,public_metrics,username,verified'\u001b[0m\u001b[1;33m)\u001b[0m\u001b[1;33m,\u001b[0m\u001b[1;33m\u001b[0m\u001b[1;33m\u001b[0m\u001b[0m\n\u001b[0;32m     14\u001b[0m     \u001b[0mplace_fields\u001b[0m\u001b[1;33m=\u001b[0m\u001b[1;33m(\u001b[0m\u001b[1;34m'country,full_name,geo,name,place_type'\u001b[0m\u001b[1;33m)\u001b[0m\u001b[1;33m,\u001b[0m\u001b[1;33m\u001b[0m\u001b[1;33m\u001b[0m\u001b[0m\n\u001b[1;32m---> 15\u001b[1;33m     expansions=('author_id,referenced_tweets.id,geo.place_id,referenced_tweets.id.author_id'))\n\u001b[0m\u001b[0;32m     16\u001b[0m \u001b[1;33m\u001b[0m\u001b[0m\n\u001b[0;32m     17\u001b[0m     tweets = collect_results(query,\n",
      "\u001b[1;31mTypeError\u001b[0m: gen_request_parameters() got an unexpected keyword argument 'from_date'"
     ]
    }
   ],
   "source": [
    "# Initialise these variables:\n",
    "tweets=retrieve_tweets(search_words, start_date, end_date)\n",
    "\n",
    "# Call the function create tweets into dataframe\n",
    "create_tweets_df(tweets)"
   ]
  },
  {
   "cell_type": "code",
   "execution_count": null,
   "metadata": {},
   "outputs": [],
   "source": [
    "import requests\n",
    "import json\n",
    "\n",
    "def auth():\n",
    "    return \"AAAAAAAAAAAAAAAAAAAAANE2NAEAAAAAS7YKh9sTQnSUY8ERjYLRiASf7Gw%3DOphmA1rPK5Xtc7BQcLAL9GRRas6mTFvEq7kd5U18ydBBsXj5M6\"\n",
    "\n",
    "def create_url():\n",
    "    # Specify the usernames that you want to lookup below\n",
    "    # You can enter up to 100 comma-separated values.\n",
    "    usernames = \"usernames=TwitterDev,TwitterAPI\"\n",
    "    user_fields = \"user.fields=description,created_at\"\n",
    "    # User fields are adjustable, options include:\n",
    "    # created_at, description, entities, id, location, name,\n",
    "    # pinned_tweet_id, profile_image_url, protected,\n",
    "    # public_metrics, url, username, verified, and withheld\n",
    "    url = \"https://api.twitter.com/2/users/by?{}&{}\".format(usernames, user_fields)\n",
    "    return url\n",
    "\n",
    "def create_headers(bearer_token):\n",
    "    headers = {\"Authorization\": \"Bearer {}\".format(bearer_token)}\n",
    "    return headers\n",
    "\n",
    "\n",
    "def connect_to_endpoint(url, headers):\n",
    "    response = requests.request(\"GET\", url, headers=headers)\n",
    "    print(response.status_code)\n",
    "    if response.status_code != 200:\n",
    "        raise Exception(\n",
    "            \"Request returned an error: {} {}\".format(\n",
    "                response.status_code, response.text\n",
    "            )\n",
    "        )\n",
    "    return response.json()"
   ]
  },
  {
   "cell_type": "code",
   "execution_count": 3,
   "metadata": {},
   "outputs": [],
   "source": [
    "# Reading retrieved tweets from storage\n",
    "\n",
    "df_1=pd.read_pickle('./1stnew_endsars_tweets.pkl')\n",
    "df_2=pd.read_pickle('./2ndnew_endsars_tweets.pkl')\n",
    "df_3=pd.read_pickle('./anew_endsars_tweets(A).pkl')\n",
    "df_4=pd.read_pickle('./anew_endsars_tweets(B).pkl')\n",
    "df_5=pd.read_pickle('./anew_endsars_tweets(C).pkl')\n",
    "df_6=pd.read_pickle('./new_endsars_tweets(A).pkl')\n",
    "df_7=pd.read_pickle('./new_endsars_tweets(B).pkl')\n",
    "df_8=pd.read_pickle('./new_endsars_tweets(C).pkl')"
   ]
  },
  {
   "cell_type": "code",
   "execution_count": 4,
   "metadata": {},
   "outputs": [],
   "source": [
    "# Merging the dataframe as a single dataset\n",
    "\n",
    "frames = [df_1, df_2, df_3, df_4, df_5, df_6, df_7, df_8]\n",
    "data = pd.concat(frames)"
   ]
  },
  {
   "cell_type": "code",
   "execution_count": 5,
   "metadata": {},
   "outputs": [
    {
     "name": "stdout",
     "output_type": "stream",
     "text": [
      "<class 'pandas.core.frame.DataFrame'>\n",
      "Int64Index: 69420 entries, 0 to 10203\n",
      "Data columns (total 17 columns):\n",
      " #   Column               Non-Null Count  Dtype  \n",
      "---  ------               --------------  -----  \n",
      " 0   public_metrics       68000 non-null  object \n",
      " 1   entities             67878 non-null  object \n",
      " 2   text                 68000 non-null  object \n",
      " 3   referenced_tweets    63956 non-null  object \n",
      " 4   possibly_sensitive   68000 non-null  object \n",
      " 5   id                   68000 non-null  object \n",
      " 6   created_at           68000 non-null  object \n",
      " 7   author_id            68000 non-null  object \n",
      " 8   context_annotations  15462 non-null  object \n",
      " 9   geo                  194 non-null    object \n",
      " 10  users                710 non-null    object \n",
      " 11  tweets               710 non-null    object \n",
      " 12  places               146 non-null    object \n",
      " 13  newest_id            710 non-null    object \n",
      " 14  oldest_id            710 non-null    object \n",
      " 15  result_count         710 non-null    float64\n",
      " 16  next_token           710 non-null    object \n",
      "dtypes: float64(1), object(16)\n",
      "memory usage: 9.5+ MB\n"
     ]
    }
   ],
   "source": [
    "data.info()"
   ]
  },
  {
   "cell_type": "code",
   "execution_count": 13,
   "metadata": {},
   "outputs": [
    {
     "data": {
      "text/html": [
       "<div>\n",
       "<style scoped>\n",
       "    .dataframe tbody tr th:only-of-type {\n",
       "        vertical-align: middle;\n",
       "    }\n",
       "\n",
       "    .dataframe tbody tr th {\n",
       "        vertical-align: top;\n",
       "    }\n",
       "\n",
       "    .dataframe thead th {\n",
       "        text-align: right;\n",
       "    }\n",
       "</style>\n",
       "<table border=\"1\" class=\"dataframe\">\n",
       "  <thead>\n",
       "    <tr style=\"text-align: right;\">\n",
       "      <th></th>\n",
       "      <th>public_metrics</th>\n",
       "      <th>entities</th>\n",
       "      <th>text</th>\n",
       "      <th>referenced_tweets</th>\n",
       "      <th>possibly_sensitive</th>\n",
       "      <th>id</th>\n",
       "      <th>created_at</th>\n",
       "      <th>author_id</th>\n",
       "      <th>context_annotations</th>\n",
       "      <th>geo</th>\n",
       "      <th>users</th>\n",
       "      <th>tweets</th>\n",
       "      <th>places</th>\n",
       "      <th>newest_id</th>\n",
       "      <th>oldest_id</th>\n",
       "      <th>result_count</th>\n",
       "      <th>next_token</th>\n",
       "    </tr>\n",
       "  </thead>\n",
       "  <tbody>\n",
       "    <tr>\n",
       "      <th>0</th>\n",
       "      <td>{'retweet_count': 1, 'reply_count': 0, 'like_c...</td>\n",
       "      <td>{'hashtags': [{'start': 0, 'end': 8, 'tag': 'E...</td>\n",
       "      <td>#Endsars\\n#EndNaijaKillings \\n#SecureNorth \\n#...</td>\n",
       "      <td>[{'type': 'quoted', 'id': '1333161983953276928'}]</td>\n",
       "      <td>False</td>\n",
       "      <td>1333199034958426113</td>\n",
       "      <td>2020-11-29T23:59:54.000Z</td>\n",
       "      <td>302632039</td>\n",
       "      <td>NaN</td>\n",
       "      <td>NaN</td>\n",
       "      <td>NaN</td>\n",
       "      <td>NaN</td>\n",
       "      <td>NaN</td>\n",
       "      <td>NaN</td>\n",
       "      <td>NaN</td>\n",
       "      <td>NaN</td>\n",
       "      <td>NaN</td>\n",
       "    </tr>\n",
       "    <tr>\n",
       "      <th>1</th>\n",
       "      <td>{'retweet_count': 1, 'reply_count': 0, 'like_c...</td>\n",
       "      <td>{'hashtags': [{'start': 15, 'end': 23, 'tag': ...</td>\n",
       "      <td>Fim de Sars  - #Endsars [EP.32]\\nhttps://t.co/...</td>\n",
       "      <td>NaN</td>\n",
       "      <td>False</td>\n",
       "      <td>1333199021574393864</td>\n",
       "      <td>2020-11-29T23:59:51.000Z</td>\n",
       "      <td>827180991882076161</td>\n",
       "      <td>NaN</td>\n",
       "      <td>NaN</td>\n",
       "      <td>NaN</td>\n",
       "      <td>NaN</td>\n",
       "      <td>NaN</td>\n",
       "      <td>NaN</td>\n",
       "      <td>NaN</td>\n",
       "      <td>NaN</td>\n",
       "      <td>NaN</td>\n",
       "    </tr>\n",
       "    <tr>\n",
       "      <th>2</th>\n",
       "      <td>{'retweet_count': 22, 'reply_count': 0, 'like_...</td>\n",
       "      <td>{'mentions': [{'start': 3, 'end': 12, 'usernam...</td>\n",
       "      <td>RT @pitharoy: @DrOlufunmilayo “They” think we ...</td>\n",
       "      <td>[{'type': 'retweeted', 'id': '1333014726561894...</td>\n",
       "      <td>False</td>\n",
       "      <td>1333198975650902017</td>\n",
       "      <td>2020-11-29T23:59:40.000Z</td>\n",
       "      <td>893366796321001472</td>\n",
       "      <td>NaN</td>\n",
       "      <td>NaN</td>\n",
       "      <td>NaN</td>\n",
       "      <td>NaN</td>\n",
       "      <td>NaN</td>\n",
       "      <td>NaN</td>\n",
       "      <td>NaN</td>\n",
       "      <td>NaN</td>\n",
       "      <td>NaN</td>\n",
       "    </tr>\n",
       "    <tr>\n",
       "      <th>3</th>\n",
       "      <td>{'retweet_count': 0, 'reply_count': 1, 'like_c...</td>\n",
       "      <td>{'mentions': [{'start': 0, 'end': 16, 'usernam...</td>\n",
       "      <td>@surayyah__ahmad @ChiMarieconsult @dawisu I li...</td>\n",
       "      <td>[{'type': 'replied_to', 'id': '133281962901884...</td>\n",
       "      <td>False</td>\n",
       "      <td>1333198967102967808</td>\n",
       "      <td>2020-11-29T23:59:38.000Z</td>\n",
       "      <td>1317152652027957248</td>\n",
       "      <td>NaN</td>\n",
       "      <td>NaN</td>\n",
       "      <td>NaN</td>\n",
       "      <td>NaN</td>\n",
       "      <td>NaN</td>\n",
       "      <td>NaN</td>\n",
       "      <td>NaN</td>\n",
       "      <td>NaN</td>\n",
       "      <td>NaN</td>\n",
       "    </tr>\n",
       "    <tr>\n",
       "      <th>4</th>\n",
       "      <td>{'retweet_count': 3854, 'reply_count': 0, 'lik...</td>\n",
       "      <td>{'mentions': [{'start': 3, 'end': 14, 'usernam...</td>\n",
       "      <td>RT @Mochievous: So many people still in custod...</td>\n",
       "      <td>[{'type': 'retweeted', 'id': '1333040880383528...</td>\n",
       "      <td>False</td>\n",
       "      <td>1333198966016643072</td>\n",
       "      <td>2020-11-29T23:59:37.000Z</td>\n",
       "      <td>1318556292689133568</td>\n",
       "      <td>NaN</td>\n",
       "      <td>NaN</td>\n",
       "      <td>NaN</td>\n",
       "      <td>NaN</td>\n",
       "      <td>NaN</td>\n",
       "      <td>NaN</td>\n",
       "      <td>NaN</td>\n",
       "      <td>NaN</td>\n",
       "      <td>NaN</td>\n",
       "    </tr>\n",
       "  </tbody>\n",
       "</table>\n",
       "</div>"
      ],
      "text/plain": [
       "                                      public_metrics  \\\n",
       "0  {'retweet_count': 1, 'reply_count': 0, 'like_c...   \n",
       "1  {'retweet_count': 1, 'reply_count': 0, 'like_c...   \n",
       "2  {'retweet_count': 22, 'reply_count': 0, 'like_...   \n",
       "3  {'retweet_count': 0, 'reply_count': 1, 'like_c...   \n",
       "4  {'retweet_count': 3854, 'reply_count': 0, 'lik...   \n",
       "\n",
       "                                            entities  \\\n",
       "0  {'hashtags': [{'start': 0, 'end': 8, 'tag': 'E...   \n",
       "1  {'hashtags': [{'start': 15, 'end': 23, 'tag': ...   \n",
       "2  {'mentions': [{'start': 3, 'end': 12, 'usernam...   \n",
       "3  {'mentions': [{'start': 0, 'end': 16, 'usernam...   \n",
       "4  {'mentions': [{'start': 3, 'end': 14, 'usernam...   \n",
       "\n",
       "                                                text  \\\n",
       "0  #Endsars\\n#EndNaijaKillings \\n#SecureNorth \\n#...   \n",
       "1  Fim de Sars  - #Endsars [EP.32]\\nhttps://t.co/...   \n",
       "2  RT @pitharoy: @DrOlufunmilayo “They” think we ...   \n",
       "3  @surayyah__ahmad @ChiMarieconsult @dawisu I li...   \n",
       "4  RT @Mochievous: So many people still in custod...   \n",
       "\n",
       "                                   referenced_tweets possibly_sensitive  \\\n",
       "0  [{'type': 'quoted', 'id': '1333161983953276928'}]              False   \n",
       "1                                                NaN              False   \n",
       "2  [{'type': 'retweeted', 'id': '1333014726561894...              False   \n",
       "3  [{'type': 'replied_to', 'id': '133281962901884...              False   \n",
       "4  [{'type': 'retweeted', 'id': '1333040880383528...              False   \n",
       "\n",
       "                    id                created_at            author_id  \\\n",
       "0  1333199034958426113  2020-11-29T23:59:54.000Z            302632039   \n",
       "1  1333199021574393864  2020-11-29T23:59:51.000Z   827180991882076161   \n",
       "2  1333198975650902017  2020-11-29T23:59:40.000Z   893366796321001472   \n",
       "3  1333198967102967808  2020-11-29T23:59:38.000Z  1317152652027957248   \n",
       "4  1333198966016643072  2020-11-29T23:59:37.000Z  1318556292689133568   \n",
       "\n",
       "  context_annotations  geo users tweets places newest_id oldest_id  \\\n",
       "0                 NaN  NaN   NaN    NaN    NaN       NaN       NaN   \n",
       "1                 NaN  NaN   NaN    NaN    NaN       NaN       NaN   \n",
       "2                 NaN  NaN   NaN    NaN    NaN       NaN       NaN   \n",
       "3                 NaN  NaN   NaN    NaN    NaN       NaN       NaN   \n",
       "4                 NaN  NaN   NaN    NaN    NaN       NaN       NaN   \n",
       "\n",
       "   result_count next_token  \n",
       "0           NaN        NaN  \n",
       "1           NaN        NaN  \n",
       "2           NaN        NaN  \n",
       "3           NaN        NaN  \n",
       "4           NaN        NaN  "
      ]
     },
     "execution_count": 13,
     "metadata": {},
     "output_type": "execute_result"
    }
   ],
   "source": [
    "data.head()"
   ]
  },
  {
   "cell_type": "code",
   "execution_count": 23,
   "metadata": {},
   "outputs": [],
   "source": [
    "data2 = data.copy()"
   ]
  },
  {
   "cell_type": "code",
   "execution_count": 26,
   "metadata": {},
   "outputs": [
    {
     "name": "stdout",
     "output_type": "stream",
     "text": [
      "<class 'pandas.core.frame.DataFrame'>\n",
      "Int64Index: 59558 entries, 0 to 10201\n",
      "Data columns (total 17 columns):\n",
      " #   Column               Non-Null Count  Dtype  \n",
      "---  ------               --------------  -----  \n",
      " 0   public_metrics       59557 non-null  object \n",
      " 1   entities             59439 non-null  object \n",
      " 2   text                 59557 non-null  object \n",
      " 3   referenced_tweets    56135 non-null  object \n",
      " 4   possibly_sensitive   59557 non-null  object \n",
      " 5   id                   59557 non-null  object \n",
      " 6   created_at           59557 non-null  object \n",
      " 7   author_id            59557 non-null  object \n",
      " 8   context_annotations  13804 non-null  object \n",
      " 9   geo                  167 non-null    object \n",
      " 10  users                1 non-null      object \n",
      " 11  tweets               1 non-null      object \n",
      " 12  places               1 non-null      object \n",
      " 13  newest_id            0 non-null      object \n",
      " 14  oldest_id            0 non-null      object \n",
      " 15  result_count         0 non-null      float64\n",
      " 16  next_token           0 non-null      object \n",
      "dtypes: float64(1), object(16)\n",
      "memory usage: 8.2+ MB\n"
     ]
    }
   ],
   "source": [
    "#Removing duplicates in Dataframe\n",
    "\n",
    "ref_cols = ['created_at', 'author_id']\n",
    "data = data.loc[~data[ref_cols].duplicated()]\n",
    "data.info()"
   ]
  },
  {
   "cell_type": "code",
   "execution_count": 30,
   "metadata": {},
   "outputs": [
    {
     "name": "stdout",
     "output_type": "stream",
     "text": [
      "<class 'pandas.core.frame.DataFrame'>\n",
      "Int64Index: 69420 entries, 0 to 10203\n",
      "Data columns (total 17 columns):\n",
      " #   Column               Non-Null Count  Dtype  \n",
      "---  ------               --------------  -----  \n",
      " 0   public_metrics       68000 non-null  object \n",
      " 1   entities             67878 non-null  object \n",
      " 2   text                 68000 non-null  object \n",
      " 3   referenced_tweets    63956 non-null  object \n",
      " 4   possibly_sensitive   68000 non-null  object \n",
      " 5   id                   68000 non-null  object \n",
      " 6   created_at           68000 non-null  object \n",
      " 7   author_id            68000 non-null  object \n",
      " 8   context_annotations  15462 non-null  object \n",
      " 9   geo                  194 non-null    object \n",
      " 10  users                710 non-null    object \n",
      " 11  tweets               710 non-null    object \n",
      " 12  places               146 non-null    object \n",
      " 13  newest_id            710 non-null    object \n",
      " 14  oldest_id            710 non-null    object \n",
      " 15  result_count         710 non-null    float64\n",
      " 16  next_token           710 non-null    object \n",
      "dtypes: float64(1), object(16)\n",
      "memory usage: 11.5+ MB\n"
     ]
    }
   ],
   "source": [
    "data2.info()"
   ]
  },
  {
   "cell_type": "code",
   "execution_count": 40,
   "metadata": {},
   "outputs": [
    {
     "data": {
      "text/html": [
       "<div>\n",
       "<style scoped>\n",
       "    .dataframe tbody tr th:only-of-type {\n",
       "        vertical-align: middle;\n",
       "    }\n",
       "\n",
       "    .dataframe tbody tr th {\n",
       "        vertical-align: top;\n",
       "    }\n",
       "\n",
       "    .dataframe thead th {\n",
       "        text-align: right;\n",
       "    }\n",
       "</style>\n",
       "<table border=\"1\" class=\"dataframe\">\n",
       "  <thead>\n",
       "    <tr style=\"text-align: right;\">\n",
       "      <th></th>\n",
       "      <th>public_metrics</th>\n",
       "      <th>entities</th>\n",
       "      <th>text</th>\n",
       "      <th>referenced_tweets</th>\n",
       "      <th>possibly_sensitive</th>\n",
       "      <th>id</th>\n",
       "      <th>created_at</th>\n",
       "      <th>author_id</th>\n",
       "      <th>context_annotations</th>\n",
       "      <th>geo</th>\n",
       "      <th>users</th>\n",
       "      <th>tweets</th>\n",
       "      <th>places</th>\n",
       "      <th>newest_id</th>\n",
       "      <th>oldest_id</th>\n",
       "      <th>result_count</th>\n",
       "      <th>next_token</th>\n",
       "    </tr>\n",
       "  </thead>\n",
       "  <tbody>\n",
       "    <tr>\n",
       "      <th>99</th>\n",
       "      <td>NaN</td>\n",
       "      <td>NaN</td>\n",
       "      <td>NaN</td>\n",
       "      <td>NaN</td>\n",
       "      <td>NaN</td>\n",
       "      <td>NaN</td>\n",
       "      <td>NaN</td>\n",
       "      <td>NaN</td>\n",
       "      <td>NaN</td>\n",
       "      <td>NaN</td>\n",
       "      <td>NaN</td>\n",
       "      <td>NaN</td>\n",
       "      <td>NaN</td>\n",
       "      <td>1333199034958426113</td>\n",
       "      <td>1333196546716938245</td>\n",
       "      <td>98.0</td>\n",
       "      <td>b26v89c19zqg8o3foset68czzlye0rlk3eu6d3oeh388t</td>\n",
       "    </tr>\n",
       "    <tr>\n",
       "      <th>200</th>\n",
       "      <td>NaN</td>\n",
       "      <td>NaN</td>\n",
       "      <td>NaN</td>\n",
       "      <td>NaN</td>\n",
       "      <td>NaN</td>\n",
       "      <td>NaN</td>\n",
       "      <td>NaN</td>\n",
       "      <td>NaN</td>\n",
       "      <td>NaN</td>\n",
       "      <td>NaN</td>\n",
       "      <td>[{'username': 'officialvaler', 'verified': Fal...</td>\n",
       "      <td>[{'id': '1315159437489864704', 'possibly_sensi...</td>\n",
       "      <td>NaN</td>\n",
       "      <td>NaN</td>\n",
       "      <td>NaN</td>\n",
       "      <td>NaN</td>\n",
       "      <td>NaN</td>\n",
       "    </tr>\n",
       "    <tr>\n",
       "      <th>201</th>\n",
       "      <td>NaN</td>\n",
       "      <td>NaN</td>\n",
       "      <td>NaN</td>\n",
       "      <td>NaN</td>\n",
       "      <td>NaN</td>\n",
       "      <td>NaN</td>\n",
       "      <td>NaN</td>\n",
       "      <td>NaN</td>\n",
       "      <td>NaN</td>\n",
       "      <td>NaN</td>\n",
       "      <td>NaN</td>\n",
       "      <td>NaN</td>\n",
       "      <td>NaN</td>\n",
       "      <td>1333196516874448899</td>\n",
       "      <td>1333193979362488327</td>\n",
       "      <td>100.0</td>\n",
       "      <td>b26v89c19zqg8o3foset68czv2xyviyivhhckg07jyt8d</td>\n",
       "    </tr>\n",
       "    <tr>\n",
       "      <th>300</th>\n",
       "      <td>NaN</td>\n",
       "      <td>NaN</td>\n",
       "      <td>NaN</td>\n",
       "      <td>NaN</td>\n",
       "      <td>NaN</td>\n",
       "      <td>NaN</td>\n",
       "      <td>NaN</td>\n",
       "      <td>NaN</td>\n",
       "      <td>NaN</td>\n",
       "      <td>NaN</td>\n",
       "      <td>[{'username': 'peter_nwos', 'id': '921639589',...</td>\n",
       "      <td>[{'text': 'So many people still in custody fro...</td>\n",
       "      <td>NaN</td>\n",
       "      <td>NaN</td>\n",
       "      <td>NaN</td>\n",
       "      <td>NaN</td>\n",
       "      <td>NaN</td>\n",
       "    </tr>\n",
       "    <tr>\n",
       "      <th>301</th>\n",
       "      <td>NaN</td>\n",
       "      <td>NaN</td>\n",
       "      <td>NaN</td>\n",
       "      <td>NaN</td>\n",
       "      <td>NaN</td>\n",
       "      <td>NaN</td>\n",
       "      <td>NaN</td>\n",
       "      <td>NaN</td>\n",
       "      <td>NaN</td>\n",
       "      <td>NaN</td>\n",
       "      <td>NaN</td>\n",
       "      <td>NaN</td>\n",
       "      <td>NaN</td>\n",
       "      <td>1333193973150724096</td>\n",
       "      <td>1333191356785831936</td>\n",
       "      <td>98.0</td>\n",
       "      <td>b26v89c19zqg8o3foset68czs0ezvefv8d643jrkf7rlp</td>\n",
       "    </tr>\n",
       "    <tr>\n",
       "      <th>...</th>\n",
       "      <td>...</td>\n",
       "      <td>...</td>\n",
       "      <td>...</td>\n",
       "      <td>...</td>\n",
       "      <td>...</td>\n",
       "      <td>...</td>\n",
       "      <td>...</td>\n",
       "      <td>...</td>\n",
       "      <td>...</td>\n",
       "      <td>...</td>\n",
       "      <td>...</td>\n",
       "      <td>...</td>\n",
       "      <td>...</td>\n",
       "      <td>...</td>\n",
       "      <td>...</td>\n",
       "      <td>...</td>\n",
       "      <td>...</td>\n",
       "    </tr>\n",
       "    <tr>\n",
       "      <th>10047</th>\n",
       "      <td>NaN</td>\n",
       "      <td>NaN</td>\n",
       "      <td>NaN</td>\n",
       "      <td>NaN</td>\n",
       "      <td>NaN</td>\n",
       "      <td>NaN</td>\n",
       "      <td>NaN</td>\n",
       "      <td>NaN</td>\n",
       "      <td>NaN</td>\n",
       "      <td>NaN</td>\n",
       "      <td>NaN</td>\n",
       "      <td>NaN</td>\n",
       "      <td>NaN</td>\n",
       "      <td>1333418925707710464</td>\n",
       "      <td>1333417846295171080</td>\n",
       "      <td>99.0</td>\n",
       "      <td>b26v89c19zqg8o3foset6eos5q3o4tcdgyhol8qs6up31</td>\n",
       "    </tr>\n",
       "    <tr>\n",
       "      <th>10147</th>\n",
       "      <td>NaN</td>\n",
       "      <td>NaN</td>\n",
       "      <td>NaN</td>\n",
       "      <td>NaN</td>\n",
       "      <td>NaN</td>\n",
       "      <td>NaN</td>\n",
       "      <td>NaN</td>\n",
       "      <td>NaN</td>\n",
       "      <td>NaN</td>\n",
       "      <td>NaN</td>\n",
       "      <td>[{'id': '1050019489880961026', 'location': 'Ni...</td>\n",
       "      <td>[{'entities': {'mentions': [{'start': 222, 'en...</td>\n",
       "      <td>[{'id': '00817d75276a95cf', 'name': 'Lagos', '...</td>\n",
       "      <td>NaN</td>\n",
       "      <td>NaN</td>\n",
       "      <td>NaN</td>\n",
       "      <td>NaN</td>\n",
       "    </tr>\n",
       "    <tr>\n",
       "      <th>10148</th>\n",
       "      <td>NaN</td>\n",
       "      <td>NaN</td>\n",
       "      <td>NaN</td>\n",
       "      <td>NaN</td>\n",
       "      <td>NaN</td>\n",
       "      <td>NaN</td>\n",
       "      <td>NaN</td>\n",
       "      <td>NaN</td>\n",
       "      <td>NaN</td>\n",
       "      <td>NaN</td>\n",
       "      <td>NaN</td>\n",
       "      <td>NaN</td>\n",
       "      <td>NaN</td>\n",
       "      <td>1333417842767704064</td>\n",
       "      <td>1333416673085444096</td>\n",
       "      <td>99.0</td>\n",
       "      <td>b26v89c19zqg8o3foset6eos471zh12cb6qz14ea9lg8t</td>\n",
       "    </tr>\n",
       "    <tr>\n",
       "      <th>10202</th>\n",
       "      <td>NaN</td>\n",
       "      <td>NaN</td>\n",
       "      <td>NaN</td>\n",
       "      <td>NaN</td>\n",
       "      <td>NaN</td>\n",
       "      <td>NaN</td>\n",
       "      <td>NaN</td>\n",
       "      <td>NaN</td>\n",
       "      <td>NaN</td>\n",
       "      <td>NaN</td>\n",
       "      <td>[{'public_metrics': {'followers_count': 72, 'f...</td>\n",
       "      <td>[{'entities': {'mentions': [{'start': 51, 'end...</td>\n",
       "      <td>NaN</td>\n",
       "      <td>NaN</td>\n",
       "      <td>NaN</td>\n",
       "      <td>NaN</td>\n",
       "      <td>NaN</td>\n",
       "    </tr>\n",
       "    <tr>\n",
       "      <th>10203</th>\n",
       "      <td>NaN</td>\n",
       "      <td>NaN</td>\n",
       "      <td>NaN</td>\n",
       "      <td>NaN</td>\n",
       "      <td>NaN</td>\n",
       "      <td>NaN</td>\n",
       "      <td>NaN</td>\n",
       "      <td>NaN</td>\n",
       "      <td>NaN</td>\n",
       "      <td>NaN</td>\n",
       "      <td>NaN</td>\n",
       "      <td>NaN</td>\n",
       "      <td>NaN</td>\n",
       "      <td>1333416664445169669</td>\n",
       "      <td>1333415386365239297</td>\n",
       "      <td>98.0</td>\n",
       "      <td>b26v89c19zqg8o3foset6eos2nsk5f9n1ssf6zuvxcm0t</td>\n",
       "    </tr>\n",
       "  </tbody>\n",
       "</table>\n",
       "<p>9862 rows × 17 columns</p>\n",
       "</div>"
      ],
      "text/plain": [
       "      public_metrics entities text referenced_tweets possibly_sensitive   id  \\\n",
       "99               NaN      NaN  NaN               NaN                NaN  NaN   \n",
       "200              NaN      NaN  NaN               NaN                NaN  NaN   \n",
       "201              NaN      NaN  NaN               NaN                NaN  NaN   \n",
       "300              NaN      NaN  NaN               NaN                NaN  NaN   \n",
       "301              NaN      NaN  NaN               NaN                NaN  NaN   \n",
       "...              ...      ...  ...               ...                ...  ...   \n",
       "10047            NaN      NaN  NaN               NaN                NaN  NaN   \n",
       "10147            NaN      NaN  NaN               NaN                NaN  NaN   \n",
       "10148            NaN      NaN  NaN               NaN                NaN  NaN   \n",
       "10202            NaN      NaN  NaN               NaN                NaN  NaN   \n",
       "10203            NaN      NaN  NaN               NaN                NaN  NaN   \n",
       "\n",
       "      created_at author_id context_annotations  geo  \\\n",
       "99           NaN       NaN                 NaN  NaN   \n",
       "200          NaN       NaN                 NaN  NaN   \n",
       "201          NaN       NaN                 NaN  NaN   \n",
       "300          NaN       NaN                 NaN  NaN   \n",
       "301          NaN       NaN                 NaN  NaN   \n",
       "...          ...       ...                 ...  ...   \n",
       "10047        NaN       NaN                 NaN  NaN   \n",
       "10147        NaN       NaN                 NaN  NaN   \n",
       "10148        NaN       NaN                 NaN  NaN   \n",
       "10202        NaN       NaN                 NaN  NaN   \n",
       "10203        NaN       NaN                 NaN  NaN   \n",
       "\n",
       "                                                   users  \\\n",
       "99                                                   NaN   \n",
       "200    [{'username': 'officialvaler', 'verified': Fal...   \n",
       "201                                                  NaN   \n",
       "300    [{'username': 'peter_nwos', 'id': '921639589',...   \n",
       "301                                                  NaN   \n",
       "...                                                  ...   \n",
       "10047                                                NaN   \n",
       "10147  [{'id': '1050019489880961026', 'location': 'Ni...   \n",
       "10148                                                NaN   \n",
       "10202  [{'public_metrics': {'followers_count': 72, 'f...   \n",
       "10203                                                NaN   \n",
       "\n",
       "                                                  tweets  \\\n",
       "99                                                   NaN   \n",
       "200    [{'id': '1315159437489864704', 'possibly_sensi...   \n",
       "201                                                  NaN   \n",
       "300    [{'text': 'So many people still in custody fro...   \n",
       "301                                                  NaN   \n",
       "...                                                  ...   \n",
       "10047                                                NaN   \n",
       "10147  [{'entities': {'mentions': [{'start': 222, 'en...   \n",
       "10148                                                NaN   \n",
       "10202  [{'entities': {'mentions': [{'start': 51, 'end...   \n",
       "10203                                                NaN   \n",
       "\n",
       "                                                  places            newest_id  \\\n",
       "99                                                   NaN  1333199034958426113   \n",
       "200                                                  NaN                  NaN   \n",
       "201                                                  NaN  1333196516874448899   \n",
       "300                                                  NaN                  NaN   \n",
       "301                                                  NaN  1333193973150724096   \n",
       "...                                                  ...                  ...   \n",
       "10047                                                NaN  1333418925707710464   \n",
       "10147  [{'id': '00817d75276a95cf', 'name': 'Lagos', '...                  NaN   \n",
       "10148                                                NaN  1333417842767704064   \n",
       "10202                                                NaN                  NaN   \n",
       "10203                                                NaN  1333416664445169669   \n",
       "\n",
       "                 oldest_id  result_count  \\\n",
       "99     1333196546716938245          98.0   \n",
       "200                    NaN           NaN   \n",
       "201    1333193979362488327         100.0   \n",
       "300                    NaN           NaN   \n",
       "301    1333191356785831936          98.0   \n",
       "...                    ...           ...   \n",
       "10047  1333417846295171080          99.0   \n",
       "10147                  NaN           NaN   \n",
       "10148  1333416673085444096          99.0   \n",
       "10202                  NaN           NaN   \n",
       "10203  1333415386365239297          98.0   \n",
       "\n",
       "                                          next_token  \n",
       "99     b26v89c19zqg8o3foset68czzlye0rlk3eu6d3oeh388t  \n",
       "200                                              NaN  \n",
       "201    b26v89c19zqg8o3foset68czv2xyviyivhhckg07jyt8d  \n",
       "300                                              NaN  \n",
       "301    b26v89c19zqg8o3foset68czs0ezvefv8d643jrkf7rlp  \n",
       "...                                              ...  \n",
       "10047  b26v89c19zqg8o3foset6eos5q3o4tcdgyhol8qs6up31  \n",
       "10147                                            NaN  \n",
       "10148  b26v89c19zqg8o3foset6eos471zh12cb6qz14ea9lg8t  \n",
       "10202                                            NaN  \n",
       "10203  b26v89c19zqg8o3foset6eos2nsk5f9n1ssf6zuvxcm0t  \n",
       "\n",
       "[9862 rows x 17 columns]"
      ]
     },
     "execution_count": 40,
     "metadata": {},
     "output_type": "execute_result"
    }
   ],
   "source": [
    "data2.loc[data2[ref_cols].duplicated()]"
   ]
  },
  {
   "cell_type": "code",
   "execution_count": 45,
   "metadata": {},
   "outputs": [
    {
     "data": {
      "text/plain": [
       "public_metrics             1\n",
       "entities                 119\n",
       "text                       1\n",
       "referenced_tweets       3423\n",
       "possibly_sensitive         1\n",
       "id                         1\n",
       "created_at                 1\n",
       "author_id                  1\n",
       "context_annotations    45754\n",
       "geo                    59391\n",
       "users                  59557\n",
       "tweets                 59557\n",
       "places                 59557\n",
       "newest_id              59558\n",
       "oldest_id              59558\n",
       "result_count           59558\n",
       "next_token             59558\n",
       "dtype: int64"
      ]
     },
     "execution_count": 45,
     "metadata": {},
     "output_type": "execute_result"
    }
   ],
   "source": [
    "data.isnull().sum()"
   ]
  },
  {
   "cell_type": "code",
   "execution_count": 46,
   "metadata": {},
   "outputs": [
    {
     "data": {
      "text/plain": [
       "public_metrics           0.001679\n",
       "entities                 0.199805\n",
       "text                     0.001679\n",
       "referenced_tweets        5.747339\n",
       "possibly_sensitive       0.001679\n",
       "id                       0.001679\n",
       "created_at               0.001679\n",
       "author_id                0.001679\n",
       "context_annotations     76.822593\n",
       "geo                     99.719601\n",
       "users                   99.998321\n",
       "tweets                  99.998321\n",
       "places                  99.998321\n",
       "newest_id              100.000000\n",
       "oldest_id              100.000000\n",
       "result_count           100.000000\n",
       "next_token             100.000000\n",
       "dtype: float64"
      ]
     },
     "execution_count": 46,
     "metadata": {},
     "output_type": "execute_result"
    }
   ],
   "source": [
    "data.isnull().sum()*100/len(data)"
   ]
  },
  {
   "cell_type": "code",
   "execution_count": 55,
   "metadata": {},
   "outputs": [
    {
     "data": {
      "text/html": [
       "<div>\n",
       "<style scoped>\n",
       "    .dataframe tbody tr th:only-of-type {\n",
       "        vertical-align: middle;\n",
       "    }\n",
       "\n",
       "    .dataframe tbody tr th {\n",
       "        vertical-align: top;\n",
       "    }\n",
       "\n",
       "    .dataframe thead th {\n",
       "        text-align: right;\n",
       "    }\n",
       "</style>\n",
       "<table border=\"1\" class=\"dataframe\">\n",
       "  <thead>\n",
       "    <tr style=\"text-align: right;\">\n",
       "      <th></th>\n",
       "      <th>public_metrics</th>\n",
       "      <th>entities</th>\n",
       "      <th>text</th>\n",
       "      <th>referenced_tweets</th>\n",
       "      <th>possibly_sensitive</th>\n",
       "      <th>id</th>\n",
       "      <th>created_at</th>\n",
       "      <th>author_id</th>\n",
       "    </tr>\n",
       "  </thead>\n",
       "  <tbody>\n",
       "    <tr>\n",
       "      <th>0</th>\n",
       "      <td>{'retweet_count': 1, 'reply_count': 0, 'like_c...</td>\n",
       "      <td>{'hashtags': [{'start': 0, 'end': 8, 'tag': 'E...</td>\n",
       "      <td>#Endsars\\n#EndNaijaKillings \\n#SecureNorth \\n#...</td>\n",
       "      <td>[{'type': 'quoted', 'id': '1333161983953276928'}]</td>\n",
       "      <td>False</td>\n",
       "      <td>1333199034958426113</td>\n",
       "      <td>2020-11-29T23:59:54.000Z</td>\n",
       "      <td>302632039</td>\n",
       "    </tr>\n",
       "    <tr>\n",
       "      <th>1</th>\n",
       "      <td>{'retweet_count': 1, 'reply_count': 0, 'like_c...</td>\n",
       "      <td>{'hashtags': [{'start': 15, 'end': 23, 'tag': ...</td>\n",
       "      <td>Fim de Sars  - #Endsars [EP.32]\\nhttps://t.co/...</td>\n",
       "      <td>NaN</td>\n",
       "      <td>False</td>\n",
       "      <td>1333199021574393864</td>\n",
       "      <td>2020-11-29T23:59:51.000Z</td>\n",
       "      <td>827180991882076161</td>\n",
       "    </tr>\n",
       "    <tr>\n",
       "      <th>2</th>\n",
       "      <td>{'retweet_count': 22, 'reply_count': 0, 'like_...</td>\n",
       "      <td>{'mentions': [{'start': 3, 'end': 12, 'usernam...</td>\n",
       "      <td>RT @pitharoy: @DrOlufunmilayo “They” think we ...</td>\n",
       "      <td>[{'type': 'retweeted', 'id': '1333014726561894...</td>\n",
       "      <td>False</td>\n",
       "      <td>1333198975650902017</td>\n",
       "      <td>2020-11-29T23:59:40.000Z</td>\n",
       "      <td>893366796321001472</td>\n",
       "    </tr>\n",
       "    <tr>\n",
       "      <th>3</th>\n",
       "      <td>{'retweet_count': 0, 'reply_count': 1, 'like_c...</td>\n",
       "      <td>{'mentions': [{'start': 0, 'end': 16, 'usernam...</td>\n",
       "      <td>@surayyah__ahmad @ChiMarieconsult @dawisu I li...</td>\n",
       "      <td>[{'type': 'replied_to', 'id': '133281962901884...</td>\n",
       "      <td>False</td>\n",
       "      <td>1333198967102967808</td>\n",
       "      <td>2020-11-29T23:59:38.000Z</td>\n",
       "      <td>1317152652027957248</td>\n",
       "    </tr>\n",
       "    <tr>\n",
       "      <th>4</th>\n",
       "      <td>{'retweet_count': 3854, 'reply_count': 0, 'lik...</td>\n",
       "      <td>{'mentions': [{'start': 3, 'end': 14, 'usernam...</td>\n",
       "      <td>RT @Mochievous: So many people still in custod...</td>\n",
       "      <td>[{'type': 'retweeted', 'id': '1333040880383528...</td>\n",
       "      <td>False</td>\n",
       "      <td>1333198966016643072</td>\n",
       "      <td>2020-11-29T23:59:37.000Z</td>\n",
       "      <td>1318556292689133568</td>\n",
       "    </tr>\n",
       "    <tr>\n",
       "      <th>...</th>\n",
       "      <td>...</td>\n",
       "      <td>...</td>\n",
       "      <td>...</td>\n",
       "      <td>...</td>\n",
       "      <td>...</td>\n",
       "      <td>...</td>\n",
       "      <td>...</td>\n",
       "      <td>...</td>\n",
       "    </tr>\n",
       "    <tr>\n",
       "      <th>10197</th>\n",
       "      <td>{'retweet_count': 64, 'reply_count': 0, 'like_...</td>\n",
       "      <td>{'mentions': [{'start': 3, 'end': 18, 'usernam...</td>\n",
       "      <td>RT @Mazi_KokoMazta: 2021 hope u re hearing us ...</td>\n",
       "      <td>[{'type': 'retweeted', 'id': '1333341572382003...</td>\n",
       "      <td>False</td>\n",
       "      <td>1333415978642911233</td>\n",
       "      <td>2020-11-30T14:21:57.000Z</td>\n",
       "      <td>1322676745267486725</td>\n",
       "    </tr>\n",
       "    <tr>\n",
       "      <th>10198</th>\n",
       "      <td>{'retweet_count': 7, 'reply_count': 0, 'like_c...</td>\n",
       "      <td>{'mentions': [{'start': 3, 'end': 15, 'usernam...</td>\n",
       "      <td>RT @dokubohilda: Regime change qwa? How? Pleas...</td>\n",
       "      <td>[{'type': 'retweeted', 'id': '1333410821897134...</td>\n",
       "      <td>False</td>\n",
       "      <td>1333415971609055233</td>\n",
       "      <td>2020-11-30T14:21:55.000Z</td>\n",
       "      <td>4267222247</td>\n",
       "    </tr>\n",
       "    <tr>\n",
       "      <th>10199</th>\n",
       "      <td>{'retweet_count': 37, 'reply_count': 0, 'like_...</td>\n",
       "      <td>{'mentions': [{'start': 3, 'end': 16, 'usernam...</td>\n",
       "      <td>RT @_MrsMalaprop: You people seem to have forg...</td>\n",
       "      <td>[{'type': 'retweeted', 'id': '1333351251971624...</td>\n",
       "      <td>False</td>\n",
       "      <td>1333415965305032705</td>\n",
       "      <td>2020-11-30T14:21:54.000Z</td>\n",
       "      <td>2900186977</td>\n",
       "    </tr>\n",
       "    <tr>\n",
       "      <th>10200</th>\n",
       "      <td>{'retweet_count': 200, 'reply_count': 0, 'like...</td>\n",
       "      <td>{'mentions': [{'start': 3, 'end': 19, 'usernam...</td>\n",
       "      <td>RT @SaharaReporters: #LekkiTollGateShooting: S...</td>\n",
       "      <td>[{'type': 'retweeted', 'id': '1333344859202129...</td>\n",
       "      <td>False</td>\n",
       "      <td>1333415932732051457</td>\n",
       "      <td>2020-11-30T14:21:46.000Z</td>\n",
       "      <td>921036472639217665</td>\n",
       "    </tr>\n",
       "    <tr>\n",
       "      <th>10201</th>\n",
       "      <td>{'retweet_count': 0, 'reply_count': 0, 'like_c...</td>\n",
       "      <td>{'mentions': [{'start': 109, 'end': 117, 'user...</td>\n",
       "      <td>Just because this made me laugh hard again , t...</td>\n",
       "      <td>NaN</td>\n",
       "      <td>False</td>\n",
       "      <td>1333415901861982208</td>\n",
       "      <td>2020-11-30T14:21:39.000Z</td>\n",
       "      <td>125767091</td>\n",
       "    </tr>\n",
       "  </tbody>\n",
       "</table>\n",
       "<p>59558 rows × 8 columns</p>\n",
       "</div>"
      ],
      "text/plain": [
       "                                          public_metrics  \\\n",
       "0      {'retweet_count': 1, 'reply_count': 0, 'like_c...   \n",
       "1      {'retweet_count': 1, 'reply_count': 0, 'like_c...   \n",
       "2      {'retweet_count': 22, 'reply_count': 0, 'like_...   \n",
       "3      {'retweet_count': 0, 'reply_count': 1, 'like_c...   \n",
       "4      {'retweet_count': 3854, 'reply_count': 0, 'lik...   \n",
       "...                                                  ...   \n",
       "10197  {'retweet_count': 64, 'reply_count': 0, 'like_...   \n",
       "10198  {'retweet_count': 7, 'reply_count': 0, 'like_c...   \n",
       "10199  {'retweet_count': 37, 'reply_count': 0, 'like_...   \n",
       "10200  {'retweet_count': 200, 'reply_count': 0, 'like...   \n",
       "10201  {'retweet_count': 0, 'reply_count': 0, 'like_c...   \n",
       "\n",
       "                                                entities  \\\n",
       "0      {'hashtags': [{'start': 0, 'end': 8, 'tag': 'E...   \n",
       "1      {'hashtags': [{'start': 15, 'end': 23, 'tag': ...   \n",
       "2      {'mentions': [{'start': 3, 'end': 12, 'usernam...   \n",
       "3      {'mentions': [{'start': 0, 'end': 16, 'usernam...   \n",
       "4      {'mentions': [{'start': 3, 'end': 14, 'usernam...   \n",
       "...                                                  ...   \n",
       "10197  {'mentions': [{'start': 3, 'end': 18, 'usernam...   \n",
       "10198  {'mentions': [{'start': 3, 'end': 15, 'usernam...   \n",
       "10199  {'mentions': [{'start': 3, 'end': 16, 'usernam...   \n",
       "10200  {'mentions': [{'start': 3, 'end': 19, 'usernam...   \n",
       "10201  {'mentions': [{'start': 109, 'end': 117, 'user...   \n",
       "\n",
       "                                                    text  \\\n",
       "0      #Endsars\\n#EndNaijaKillings \\n#SecureNorth \\n#...   \n",
       "1      Fim de Sars  - #Endsars [EP.32]\\nhttps://t.co/...   \n",
       "2      RT @pitharoy: @DrOlufunmilayo “They” think we ...   \n",
       "3      @surayyah__ahmad @ChiMarieconsult @dawisu I li...   \n",
       "4      RT @Mochievous: So many people still in custod...   \n",
       "...                                                  ...   \n",
       "10197  RT @Mazi_KokoMazta: 2021 hope u re hearing us ...   \n",
       "10198  RT @dokubohilda: Regime change qwa? How? Pleas...   \n",
       "10199  RT @_MrsMalaprop: You people seem to have forg...   \n",
       "10200  RT @SaharaReporters: #LekkiTollGateShooting: S...   \n",
       "10201  Just because this made me laugh hard again , t...   \n",
       "\n",
       "                                       referenced_tweets possibly_sensitive  \\\n",
       "0      [{'type': 'quoted', 'id': '1333161983953276928'}]              False   \n",
       "1                                                    NaN              False   \n",
       "2      [{'type': 'retweeted', 'id': '1333014726561894...              False   \n",
       "3      [{'type': 'replied_to', 'id': '133281962901884...              False   \n",
       "4      [{'type': 'retweeted', 'id': '1333040880383528...              False   \n",
       "...                                                  ...                ...   \n",
       "10197  [{'type': 'retweeted', 'id': '1333341572382003...              False   \n",
       "10198  [{'type': 'retweeted', 'id': '1333410821897134...              False   \n",
       "10199  [{'type': 'retweeted', 'id': '1333351251971624...              False   \n",
       "10200  [{'type': 'retweeted', 'id': '1333344859202129...              False   \n",
       "10201                                                NaN              False   \n",
       "\n",
       "                        id                created_at            author_id  \n",
       "0      1333199034958426113  2020-11-29T23:59:54.000Z            302632039  \n",
       "1      1333199021574393864  2020-11-29T23:59:51.000Z   827180991882076161  \n",
       "2      1333198975650902017  2020-11-29T23:59:40.000Z   893366796321001472  \n",
       "3      1333198967102967808  2020-11-29T23:59:38.000Z  1317152652027957248  \n",
       "4      1333198966016643072  2020-11-29T23:59:37.000Z  1318556292689133568  \n",
       "...                    ...                       ...                  ...  \n",
       "10197  1333415978642911233  2020-11-30T14:21:57.000Z  1322676745267486725  \n",
       "10198  1333415971609055233  2020-11-30T14:21:55.000Z           4267222247  \n",
       "10199  1333415965305032705  2020-11-30T14:21:54.000Z           2900186977  \n",
       "10200  1333415932732051457  2020-11-30T14:21:46.000Z   921036472639217665  \n",
       "10201  1333415901861982208  2020-11-30T14:21:39.000Z            125767091  \n",
       "\n",
       "[59558 rows x 8 columns]"
      ]
     },
     "execution_count": 55,
     "metadata": {},
     "output_type": "execute_result"
    }
   ],
   "source": [
    "data.drop(['context_annotations', 'geo', 'users', 'tweets', 'places', 'newest_id',\n",
    "       'oldest_id', 'result_count', 'next_token'], axis=1)"
   ]
  },
  {
   "cell_type": "code",
   "execution_count": 281,
   "metadata": {},
   "outputs": [
    {
     "data": {
      "text/plain": [
       "{'mentions': [{'start': 0, 'end': 16, 'username': 'surayyah__ahmad'},\n",
       "  {'start': 17, 'end': 33, 'username': 'ChiMarieconsult'},\n",
       "  {'start': 34, 'end': 41, 'username': 'dawisu'}],\n",
       " 'hashtags': [{'start': 169, 'end': 177, 'tag': 'EndSARS'}],\n",
       " 'annotations': [{'start': 137,\n",
       "   'end': 147,\n",
       "   'probability': 0.6521,\n",
       "   'type': 'Organization',\n",
       "   'normalized_text': 'Arewa Youth'},\n",
       "  {'start': 310,\n",
       "   'end': 314,\n",
       "   'probability': 0.5328,\n",
       "   'type': 'Place',\n",
       "   'normalized_text': 'North'}],\n",
       " 'urls': [{'start': 317,\n",
       "   'end': 340,\n",
       "   'url': 'https://t.co/meKGC7XmPC',\n",
       "   'expanded_url': 'https://twitter.com/UnamakaEjiofor/status/1333198967102967808/photo/1',\n",
       "   'display_url': 'pic.twitter.com/meKGC7XmPC'}]}"
      ]
     },
     "execution_count": 281,
     "metadata": {},
     "output_type": "execute_result"
    }
   ],
   "source": [
    "data.entities.iloc[3]\n",
    "\n",
    "#a = data.public_metrics.iloc["
   ]
  },
  {
   "cell_type": "code",
   "execution_count": 116,
   "metadata": {},
   "outputs": [],
   "source": [
    "def return_feature(x, var):\n",
    "    if type(x) == float:\n",
    "        pass\n",
    "    else:\n",
    "        return x.get(var)\n",
    "\n",
    "#data[var] = data.public_metrics.apply(return_feature, args=('var',))"
   ]
  },
  {
   "cell_type": "code",
   "execution_count": 117,
   "metadata": {},
   "outputs": [],
   "source": [
    "for feat in ['reply_count', 'like_count', 'quote_count']:\n",
    "    data[feat] = data.public_metrics.apply(return_feature, args=(feat,))"
   ]
  },
  {
   "cell_type": "code",
   "execution_count": null,
   "metadata": {},
   "outputs": [],
   "source": [
    "data['retweet_count'] = data.public_metrics.apply(return_feature)"
   ]
  },
  {
   "cell_type": "code",
   "execution_count": 131,
   "metadata": {},
   "outputs": [
    {
     "ename": "KeyError",
     "evalue": "\"['public_metrics'] not found in axis\"",
     "output_type": "error",
     "traceback": [
      "\u001b[1;31m---------------------------------------------------------------------------\u001b[0m",
      "\u001b[1;31mKeyError\u001b[0m                                  Traceback (most recent call last)",
      "\u001b[1;32m<ipython-input-131-6b712e9555d4>\u001b[0m in \u001b[0;36m<module>\u001b[1;34m\u001b[0m\n\u001b[1;32m----> 1\u001b[1;33m \u001b[0mdata\u001b[0m\u001b[1;33m.\u001b[0m\u001b[0mdrop\u001b[0m\u001b[1;33m(\u001b[0m\u001b[1;34m'public_metrics'\u001b[0m\u001b[1;33m,\u001b[0m\u001b[0maxis\u001b[0m\u001b[1;33m=\u001b[0m\u001b[1;36m1\u001b[0m\u001b[1;33m,\u001b[0m \u001b[0minplace\u001b[0m\u001b[1;33m=\u001b[0m\u001b[1;32mTrue\u001b[0m\u001b[1;33m)\u001b[0m\u001b[1;33m\u001b[0m\u001b[1;33m\u001b[0m\u001b[0m\n\u001b[0m",
      "\u001b[1;32m~\\anaconda3\\envs\\endsars\\lib\\site-packages\\pandas\\core\\frame.py\u001b[0m in \u001b[0;36mdrop\u001b[1;34m(self, labels, axis, index, columns, level, inplace, errors)\u001b[0m\n\u001b[0;32m   4310\u001b[0m             \u001b[0mlevel\u001b[0m\u001b[1;33m=\u001b[0m\u001b[0mlevel\u001b[0m\u001b[1;33m,\u001b[0m\u001b[1;33m\u001b[0m\u001b[1;33m\u001b[0m\u001b[0m\n\u001b[0;32m   4311\u001b[0m             \u001b[0minplace\u001b[0m\u001b[1;33m=\u001b[0m\u001b[0minplace\u001b[0m\u001b[1;33m,\u001b[0m\u001b[1;33m\u001b[0m\u001b[1;33m\u001b[0m\u001b[0m\n\u001b[1;32m-> 4312\u001b[1;33m             \u001b[0merrors\u001b[0m\u001b[1;33m=\u001b[0m\u001b[0merrors\u001b[0m\u001b[1;33m,\u001b[0m\u001b[1;33m\u001b[0m\u001b[1;33m\u001b[0m\u001b[0m\n\u001b[0m\u001b[0;32m   4313\u001b[0m         )\n\u001b[0;32m   4314\u001b[0m \u001b[1;33m\u001b[0m\u001b[0m\n",
      "\u001b[1;32m~\\anaconda3\\envs\\endsars\\lib\\site-packages\\pandas\\core\\generic.py\u001b[0m in \u001b[0;36mdrop\u001b[1;34m(self, labels, axis, index, columns, level, inplace, errors)\u001b[0m\n\u001b[0;32m   4150\u001b[0m         \u001b[1;32mfor\u001b[0m \u001b[0maxis\u001b[0m\u001b[1;33m,\u001b[0m \u001b[0mlabels\u001b[0m \u001b[1;32min\u001b[0m \u001b[0maxes\u001b[0m\u001b[1;33m.\u001b[0m\u001b[0mitems\u001b[0m\u001b[1;33m(\u001b[0m\u001b[1;33m)\u001b[0m\u001b[1;33m:\u001b[0m\u001b[1;33m\u001b[0m\u001b[1;33m\u001b[0m\u001b[0m\n\u001b[0;32m   4151\u001b[0m             \u001b[1;32mif\u001b[0m \u001b[0mlabels\u001b[0m \u001b[1;32mis\u001b[0m \u001b[1;32mnot\u001b[0m \u001b[1;32mNone\u001b[0m\u001b[1;33m:\u001b[0m\u001b[1;33m\u001b[0m\u001b[1;33m\u001b[0m\u001b[0m\n\u001b[1;32m-> 4152\u001b[1;33m                 \u001b[0mobj\u001b[0m \u001b[1;33m=\u001b[0m \u001b[0mobj\u001b[0m\u001b[1;33m.\u001b[0m\u001b[0m_drop_axis\u001b[0m\u001b[1;33m(\u001b[0m\u001b[0mlabels\u001b[0m\u001b[1;33m,\u001b[0m \u001b[0maxis\u001b[0m\u001b[1;33m,\u001b[0m \u001b[0mlevel\u001b[0m\u001b[1;33m=\u001b[0m\u001b[0mlevel\u001b[0m\u001b[1;33m,\u001b[0m \u001b[0merrors\u001b[0m\u001b[1;33m=\u001b[0m\u001b[0merrors\u001b[0m\u001b[1;33m)\u001b[0m\u001b[1;33m\u001b[0m\u001b[1;33m\u001b[0m\u001b[0m\n\u001b[0m\u001b[0;32m   4153\u001b[0m \u001b[1;33m\u001b[0m\u001b[0m\n\u001b[0;32m   4154\u001b[0m         \u001b[1;32mif\u001b[0m \u001b[0minplace\u001b[0m\u001b[1;33m:\u001b[0m\u001b[1;33m\u001b[0m\u001b[1;33m\u001b[0m\u001b[0m\n",
      "\u001b[1;32m~\\anaconda3\\envs\\endsars\\lib\\site-packages\\pandas\\core\\generic.py\u001b[0m in \u001b[0;36m_drop_axis\u001b[1;34m(self, labels, axis, level, errors)\u001b[0m\n\u001b[0;32m   4185\u001b[0m                 \u001b[0mnew_axis\u001b[0m \u001b[1;33m=\u001b[0m \u001b[0maxis\u001b[0m\u001b[1;33m.\u001b[0m\u001b[0mdrop\u001b[0m\u001b[1;33m(\u001b[0m\u001b[0mlabels\u001b[0m\u001b[1;33m,\u001b[0m \u001b[0mlevel\u001b[0m\u001b[1;33m=\u001b[0m\u001b[0mlevel\u001b[0m\u001b[1;33m,\u001b[0m \u001b[0merrors\u001b[0m\u001b[1;33m=\u001b[0m\u001b[0merrors\u001b[0m\u001b[1;33m)\u001b[0m\u001b[1;33m\u001b[0m\u001b[1;33m\u001b[0m\u001b[0m\n\u001b[0;32m   4186\u001b[0m             \u001b[1;32melse\u001b[0m\u001b[1;33m:\u001b[0m\u001b[1;33m\u001b[0m\u001b[1;33m\u001b[0m\u001b[0m\n\u001b[1;32m-> 4187\u001b[1;33m                 \u001b[0mnew_axis\u001b[0m \u001b[1;33m=\u001b[0m \u001b[0maxis\u001b[0m\u001b[1;33m.\u001b[0m\u001b[0mdrop\u001b[0m\u001b[1;33m(\u001b[0m\u001b[0mlabels\u001b[0m\u001b[1;33m,\u001b[0m \u001b[0merrors\u001b[0m\u001b[1;33m=\u001b[0m\u001b[0merrors\u001b[0m\u001b[1;33m)\u001b[0m\u001b[1;33m\u001b[0m\u001b[1;33m\u001b[0m\u001b[0m\n\u001b[0m\u001b[0;32m   4188\u001b[0m             \u001b[0mresult\u001b[0m \u001b[1;33m=\u001b[0m \u001b[0mself\u001b[0m\u001b[1;33m.\u001b[0m\u001b[0mreindex\u001b[0m\u001b[1;33m(\u001b[0m\u001b[1;33m**\u001b[0m\u001b[1;33m{\u001b[0m\u001b[0maxis_name\u001b[0m\u001b[1;33m:\u001b[0m \u001b[0mnew_axis\u001b[0m\u001b[1;33m}\u001b[0m\u001b[1;33m)\u001b[0m\u001b[1;33m\u001b[0m\u001b[1;33m\u001b[0m\u001b[0m\n\u001b[0;32m   4189\u001b[0m \u001b[1;33m\u001b[0m\u001b[0m\n",
      "\u001b[1;32m~\\anaconda3\\envs\\endsars\\lib\\site-packages\\pandas\\core\\indexes\\base.py\u001b[0m in \u001b[0;36mdrop\u001b[1;34m(self, labels, errors)\u001b[0m\n\u001b[0;32m   5589\u001b[0m         \u001b[1;32mif\u001b[0m \u001b[0mmask\u001b[0m\u001b[1;33m.\u001b[0m\u001b[0many\u001b[0m\u001b[1;33m(\u001b[0m\u001b[1;33m)\u001b[0m\u001b[1;33m:\u001b[0m\u001b[1;33m\u001b[0m\u001b[1;33m\u001b[0m\u001b[0m\n\u001b[0;32m   5590\u001b[0m             \u001b[1;32mif\u001b[0m \u001b[0merrors\u001b[0m \u001b[1;33m!=\u001b[0m \u001b[1;34m\"ignore\"\u001b[0m\u001b[1;33m:\u001b[0m\u001b[1;33m\u001b[0m\u001b[1;33m\u001b[0m\u001b[0m\n\u001b[1;32m-> 5591\u001b[1;33m                 \u001b[1;32mraise\u001b[0m \u001b[0mKeyError\u001b[0m\u001b[1;33m(\u001b[0m\u001b[1;34mf\"{labels[mask]} not found in axis\"\u001b[0m\u001b[1;33m)\u001b[0m\u001b[1;33m\u001b[0m\u001b[1;33m\u001b[0m\u001b[0m\n\u001b[0m\u001b[0;32m   5592\u001b[0m             \u001b[0mindexer\u001b[0m \u001b[1;33m=\u001b[0m \u001b[0mindexer\u001b[0m\u001b[1;33m[\u001b[0m\u001b[1;33m~\u001b[0m\u001b[0mmask\u001b[0m\u001b[1;33m]\u001b[0m\u001b[1;33m\u001b[0m\u001b[1;33m\u001b[0m\u001b[0m\n\u001b[0;32m   5593\u001b[0m         \u001b[1;32mreturn\u001b[0m \u001b[0mself\u001b[0m\u001b[1;33m.\u001b[0m\u001b[0mdelete\u001b[0m\u001b[1;33m(\u001b[0m\u001b[0mindexer\u001b[0m\u001b[1;33m)\u001b[0m\u001b[1;33m\u001b[0m\u001b[1;33m\u001b[0m\u001b[0m\n",
      "\u001b[1;31mKeyError\u001b[0m: \"['public_metrics'] not found in axis\""
     ]
    }
   ],
   "source": [
    "data.drop('public_metrics',axis=1, inplace=True)"
   ]
  },
  {
   "cell_type": "code",
   "execution_count": 138,
   "metadata": {},
   "outputs": [
    {
     "data": {
      "text/html": [
       "<div>\n",
       "<style scoped>\n",
       "    .dataframe tbody tr th:only-of-type {\n",
       "        vertical-align: middle;\n",
       "    }\n",
       "\n",
       "    .dataframe tbody tr th {\n",
       "        vertical-align: top;\n",
       "    }\n",
       "\n",
       "    .dataframe thead th {\n",
       "        text-align: right;\n",
       "    }\n",
       "</style>\n",
       "<table border=\"1\" class=\"dataframe\">\n",
       "  <thead>\n",
       "    <tr style=\"text-align: right;\">\n",
       "      <th></th>\n",
       "      <th>entities</th>\n",
       "      <th>text</th>\n",
       "      <th>referenced_tweets</th>\n",
       "      <th>possibly_sensitive</th>\n",
       "      <th>id</th>\n",
       "      <th>created_at</th>\n",
       "      <th>author_id</th>\n",
       "      <th>context_annotations</th>\n",
       "      <th>geo</th>\n",
       "      <th>users</th>\n",
       "      <th>tweets</th>\n",
       "      <th>places</th>\n",
       "      <th>newest_id</th>\n",
       "      <th>oldest_id</th>\n",
       "      <th>result_count</th>\n",
       "      <th>next_token</th>\n",
       "      <th>retweet_count</th>\n",
       "      <th>reply_count</th>\n",
       "      <th>like_count</th>\n",
       "      <th>quote_count</th>\n",
       "    </tr>\n",
       "  </thead>\n",
       "  <tbody>\n",
       "    <tr>\n",
       "      <th>0</th>\n",
       "      <td>{'hashtags': [{'start': 0, 'end': 8, 'tag': 'E...</td>\n",
       "      <td>#Endsars\\n#EndNaijaKillings \\n#SecureNorth \\n#...</td>\n",
       "      <td>[{'type': 'quoted', 'id': '1333161983953276928'}]</td>\n",
       "      <td>False</td>\n",
       "      <td>1333199034958426113</td>\n",
       "      <td>2020-11-29T23:59:54.000Z</td>\n",
       "      <td>302632039</td>\n",
       "      <td>NaN</td>\n",
       "      <td>NaN</td>\n",
       "      <td>NaN</td>\n",
       "      <td>NaN</td>\n",
       "      <td>NaN</td>\n",
       "      <td>NaN</td>\n",
       "      <td>NaN</td>\n",
       "      <td>NaN</td>\n",
       "      <td>NaN</td>\n",
       "      <td>1.0</td>\n",
       "      <td>0.0</td>\n",
       "      <td>1.0</td>\n",
       "      <td>0.0</td>\n",
       "    </tr>\n",
       "    <tr>\n",
       "      <th>1</th>\n",
       "      <td>{'hashtags': [{'start': 15, 'end': 23, 'tag': ...</td>\n",
       "      <td>Fim de Sars  - #Endsars [EP.32]\\nhttps://t.co/...</td>\n",
       "      <td>NaN</td>\n",
       "      <td>False</td>\n",
       "      <td>1333199021574393864</td>\n",
       "      <td>2020-11-29T23:59:51.000Z</td>\n",
       "      <td>827180991882076161</td>\n",
       "      <td>NaN</td>\n",
       "      <td>NaN</td>\n",
       "      <td>NaN</td>\n",
       "      <td>NaN</td>\n",
       "      <td>NaN</td>\n",
       "      <td>NaN</td>\n",
       "      <td>NaN</td>\n",
       "      <td>NaN</td>\n",
       "      <td>NaN</td>\n",
       "      <td>1.0</td>\n",
       "      <td>0.0</td>\n",
       "      <td>1.0</td>\n",
       "      <td>0.0</td>\n",
       "    </tr>\n",
       "    <tr>\n",
       "      <th>2</th>\n",
       "      <td>{'mentions': [{'start': 3, 'end': 12, 'usernam...</td>\n",
       "      <td>RT @pitharoy: @DrOlufunmilayo “They” think we ...</td>\n",
       "      <td>[{'type': 'retweeted', 'id': '1333014726561894...</td>\n",
       "      <td>False</td>\n",
       "      <td>1333198975650902017</td>\n",
       "      <td>2020-11-29T23:59:40.000Z</td>\n",
       "      <td>893366796321001472</td>\n",
       "      <td>NaN</td>\n",
       "      <td>NaN</td>\n",
       "      <td>NaN</td>\n",
       "      <td>NaN</td>\n",
       "      <td>NaN</td>\n",
       "      <td>NaN</td>\n",
       "      <td>NaN</td>\n",
       "      <td>NaN</td>\n",
       "      <td>NaN</td>\n",
       "      <td>22.0</td>\n",
       "      <td>0.0</td>\n",
       "      <td>0.0</td>\n",
       "      <td>0.0</td>\n",
       "    </tr>\n",
       "    <tr>\n",
       "      <th>3</th>\n",
       "      <td>{'mentions': [{'start': 0, 'end': 16, 'usernam...</td>\n",
       "      <td>@surayyah__ahmad @ChiMarieconsult @dawisu I li...</td>\n",
       "      <td>[{'type': 'replied_to', 'id': '133281962901884...</td>\n",
       "      <td>False</td>\n",
       "      <td>1333198967102967808</td>\n",
       "      <td>2020-11-29T23:59:38.000Z</td>\n",
       "      <td>1317152652027957248</td>\n",
       "      <td>NaN</td>\n",
       "      <td>NaN</td>\n",
       "      <td>NaN</td>\n",
       "      <td>NaN</td>\n",
       "      <td>NaN</td>\n",
       "      <td>NaN</td>\n",
       "      <td>NaN</td>\n",
       "      <td>NaN</td>\n",
       "      <td>NaN</td>\n",
       "      <td>0.0</td>\n",
       "      <td>1.0</td>\n",
       "      <td>2.0</td>\n",
       "      <td>0.0</td>\n",
       "    </tr>\n",
       "    <tr>\n",
       "      <th>4</th>\n",
       "      <td>{'mentions': [{'start': 3, 'end': 14, 'usernam...</td>\n",
       "      <td>RT @Mochievous: So many people still in custod...</td>\n",
       "      <td>[{'type': 'retweeted', 'id': '1333040880383528...</td>\n",
       "      <td>False</td>\n",
       "      <td>1333198966016643072</td>\n",
       "      <td>2020-11-29T23:59:37.000Z</td>\n",
       "      <td>1318556292689133568</td>\n",
       "      <td>NaN</td>\n",
       "      <td>NaN</td>\n",
       "      <td>NaN</td>\n",
       "      <td>NaN</td>\n",
       "      <td>NaN</td>\n",
       "      <td>NaN</td>\n",
       "      <td>NaN</td>\n",
       "      <td>NaN</td>\n",
       "      <td>NaN</td>\n",
       "      <td>3854.0</td>\n",
       "      <td>0.0</td>\n",
       "      <td>0.0</td>\n",
       "      <td>0.0</td>\n",
       "    </tr>\n",
       "  </tbody>\n",
       "</table>\n",
       "</div>"
      ],
      "text/plain": [
       "                                            entities  \\\n",
       "0  {'hashtags': [{'start': 0, 'end': 8, 'tag': 'E...   \n",
       "1  {'hashtags': [{'start': 15, 'end': 23, 'tag': ...   \n",
       "2  {'mentions': [{'start': 3, 'end': 12, 'usernam...   \n",
       "3  {'mentions': [{'start': 0, 'end': 16, 'usernam...   \n",
       "4  {'mentions': [{'start': 3, 'end': 14, 'usernam...   \n",
       "\n",
       "                                                text  \\\n",
       "0  #Endsars\\n#EndNaijaKillings \\n#SecureNorth \\n#...   \n",
       "1  Fim de Sars  - #Endsars [EP.32]\\nhttps://t.co/...   \n",
       "2  RT @pitharoy: @DrOlufunmilayo “They” think we ...   \n",
       "3  @surayyah__ahmad @ChiMarieconsult @dawisu I li...   \n",
       "4  RT @Mochievous: So many people still in custod...   \n",
       "\n",
       "                                   referenced_tweets possibly_sensitive  \\\n",
       "0  [{'type': 'quoted', 'id': '1333161983953276928'}]              False   \n",
       "1                                                NaN              False   \n",
       "2  [{'type': 'retweeted', 'id': '1333014726561894...              False   \n",
       "3  [{'type': 'replied_to', 'id': '133281962901884...              False   \n",
       "4  [{'type': 'retweeted', 'id': '1333040880383528...              False   \n",
       "\n",
       "                    id                created_at            author_id  \\\n",
       "0  1333199034958426113  2020-11-29T23:59:54.000Z            302632039   \n",
       "1  1333199021574393864  2020-11-29T23:59:51.000Z   827180991882076161   \n",
       "2  1333198975650902017  2020-11-29T23:59:40.000Z   893366796321001472   \n",
       "3  1333198967102967808  2020-11-29T23:59:38.000Z  1317152652027957248   \n",
       "4  1333198966016643072  2020-11-29T23:59:37.000Z  1318556292689133568   \n",
       "\n",
       "  context_annotations  geo users tweets places newest_id oldest_id  \\\n",
       "0                 NaN  NaN   NaN    NaN    NaN       NaN       NaN   \n",
       "1                 NaN  NaN   NaN    NaN    NaN       NaN       NaN   \n",
       "2                 NaN  NaN   NaN    NaN    NaN       NaN       NaN   \n",
       "3                 NaN  NaN   NaN    NaN    NaN       NaN       NaN   \n",
       "4                 NaN  NaN   NaN    NaN    NaN       NaN       NaN   \n",
       "\n",
       "   result_count next_token  retweet_count  reply_count  like_count  \\\n",
       "0           NaN        NaN            1.0          0.0         1.0   \n",
       "1           NaN        NaN            1.0          0.0         1.0   \n",
       "2           NaN        NaN           22.0          0.0         0.0   \n",
       "3           NaN        NaN            0.0          1.0         2.0   \n",
       "4           NaN        NaN         3854.0          0.0         0.0   \n",
       "\n",
       "   quote_count  \n",
       "0          0.0  \n",
       "1          0.0  \n",
       "2          0.0  \n",
       "3          0.0  \n",
       "4          0.0  "
      ]
     },
     "execution_count": 138,
     "metadata": {},
     "output_type": "execute_result"
    }
   ],
   "source": [
    "data.head()"
   ]
  },
  {
   "cell_type": "code",
   "execution_count": 275,
   "metadata": {},
   "outputs": [
    {
     "data": {
      "text/plain": [
       "False"
      ]
     },
     "execution_count": 275,
     "metadata": {},
     "output_type": "execute_result"
    }
   ],
   "source": [
    "data.possibly_sensitive.iloc[0]"
   ]
  },
  {
   "cell_type": "code",
   "execution_count": 280,
   "metadata": {},
   "outputs": [
    {
     "data": {
      "text/plain": [
       "{False, nan, True}"
      ]
     },
     "execution_count": 280,
     "metadata": {},
     "output_type": "execute_result"
    }
   ],
   "source": [
    "set(data.possibly_sensitive)"
   ]
  },
  {
   "cell_type": "code",
   "execution_count": 262,
   "metadata": {},
   "outputs": [
    {
     "data": {
      "text/plain": [
       "(list, [{'type': 'retweeted', 'id': '1332006218320269312'}])"
      ]
     },
     "execution_count": 262,
     "metadata": {},
     "output_type": "execute_result"
    }
   ],
   "source": [
    "m = data.referenced_tweets.iloc[100]\n",
    "type(m), m"
   ]
  },
  {
   "cell_type": "code",
   "execution_count": 272,
   "metadata": {},
   "outputs": [],
   "source": [
    "m[0].get('type')\n",
    "\n",
    "def get_retweet(x):\n",
    "    if type(x) != float and x[0].get('type') == 'retweeted':\n",
    "        return 1\n",
    "    else:\n",
    "        return 0"
   ]
  },
  {
   "cell_type": "code",
   "execution_count": 273,
   "metadata": {},
   "outputs": [
    {
     "data": {
      "text/plain": [
       "0        0\n",
       "1        0\n",
       "2        1\n",
       "3        0\n",
       "4        1\n",
       "        ..\n",
       "10197    1\n",
       "10198    1\n",
       "10199    1\n",
       "10200    1\n",
       "10201    0\n",
       "Name: referenced_tweets, Length: 59558, dtype: int64"
      ]
     },
     "execution_count": 273,
     "metadata": {},
     "output_type": "execute_result"
    }
   ],
   "source": [
    "#get_retweet(m)\n",
    "data.referenced_tweets.apply(get_retweet)"
   ]
  },
  {
   "cell_type": "code",
   "execution_count": null,
   "metadata": {},
   "outputs": [],
   "source": [
    "data.entities.iloc[0]"
   ]
  },
  {
   "cell_type": "code",
   "execution_count": 165,
   "metadata": {},
   "outputs": [],
   "source": [
    "b=data.entities.iloc[0]\n",
    "b.get('hashtags')\n",
    "tag = [elt.get('tag') for elt in b.get('hashtags')]"
   ]
  },
  {
   "cell_type": "code",
   "execution_count": 175,
   "metadata": {},
   "outputs": [
    {
     "data": {
      "text/plain": [
       "['Endsars',\n",
       " 'EndNaijaKillings',\n",
       " 'SecureNorth',\n",
       " 'EndBadGovernanceinNIGERIA',\n",
       " 'EndInsecurity',\n",
       " 'EndOppression',\n",
       " 'EnoughIsEnough']"
      ]
     },
     "execution_count": 175,
     "metadata": {},
     "output_type": "execute_result"
    }
   ],
   "source": [
    "#tag"
   ]
  },
  {
   "cell_type": "code",
   "execution_count": 166,
   "metadata": {},
   "outputs": [
    {
     "data": {
      "text/plain": [
       "dict"
      ]
     },
     "execution_count": 166,
     "metadata": {},
     "output_type": "execute_result"
    }
   ],
   "source": [
    "#len(set(tag))\n",
    "type({})"
   ]
  },
  {
   "cell_type": "code",
   "execution_count": 189,
   "metadata": {},
   "outputs": [],
   "source": [
    "def return_hashtags(x, var):\n",
    "    \n",
    "    if type(x) == None: \n",
    "        pass\n",
    "\n",
    "    else:\n",
    "        x.get(var)\n",
    "        for elt in x.get('hashtags'):\n",
    "            if type(elt) == None:\n",
    "                pass\n",
    "            else:\n",
    "                tag = []\n",
    "                tag_ = elt.get('tag')\n",
    "                #print(tag_)\n",
    "                tag.append(tag_)\n",
    "        return tag\n",
    "\n",
    "#data[var] = data.entities.apply(return_hashtags, args=('var',))"
   ]
  },
  {
   "cell_type": "code",
   "execution_count": 221,
   "metadata": {},
   "outputs": [],
   "source": [
    "def return_hashtags(x):\n",
    "    \n",
    "    if type(x) == None or type(x) == float: \n",
    "        pass\n",
    "    else:\n",
    "        hashtag = x.get('hashtags')\n",
    "        if hashtag == None:\n",
    "            return []\n",
    "        else:\n",
    "            tag = [elt.get('tag') for elt in hashtag]\n",
    "            return tag"
   ]
  },
  {
   "cell_type": "code",
   "execution_count": 219,
   "metadata": {},
   "outputs": [],
   "source": [
    "return_hashtags(data.entities.iloc[0])\n",
    "#data.drop('hashtags', axis=1, inplace=True)"
   ]
  },
  {
   "cell_type": "code",
   "execution_count": 222,
   "metadata": {},
   "outputs": [],
   "source": [
    "data['hashtags'] = data.entities.apply(return_hashtags)"
   ]
  },
  {
   "cell_type": "code",
   "execution_count": 223,
   "metadata": {},
   "outputs": [
    {
     "data": {
      "text/plain": [
       "0        [Endsars, EndNaijaKillings, SecureNorth, EndBa...\n",
       "1                                                [Endsars]\n",
       "2                                                [EndSARS]\n",
       "3                                                [EndSARS]\n",
       "4                                                [EndSARS]\n",
       "                               ...                        \n",
       "10197                              [BuhariResign, EndSARS]\n",
       "10198                                                   []\n",
       "10199                                                   []\n",
       "10200                     [LekkiTollGateShooting, EndSARS]\n",
       "10201                                [TachaIfeMi, EndSARS]\n",
       "Name: hashtags, Length: 59558, dtype: object"
      ]
     },
     "execution_count": 223,
     "metadata": {},
     "output_type": "execute_result"
    }
   ],
   "source": [
    "data.hashtags"
   ]
  },
  {
   "cell_type": "code",
   "execution_count": 134,
   "metadata": {},
   "outputs": [
    {
     "data": {
      "text/plain": [
       "'RT @sars_watch: Teenagers still in police custody at Lion-building prison After being arrested during the #EndSARS protest \\n\\nhttps://t.co/9…'"
      ]
     },
     "execution_count": 134,
     "metadata": {},
     "output_type": "execute_result"
    }
   ],
   "source": [
    "data.text.iloc[10]"
   ]
  },
  {
   "cell_type": "code",
   "execution_count": 114,
   "metadata": {},
   "outputs": [
    {
     "data": {
      "text/plain": [
       "{'retweet_count': 1, 'reply_count': 0, 'like_count': 1, 'quote_count': 0}"
      ]
     },
     "execution_count": 114,
     "metadata": {},
     "output_type": "execute_result"
    }
   ],
   "source": [
    "a= data.public_metrics.iloc[0]\n",
    "#return_feature(a)\n",
    "a"
   ]
  },
  {
   "cell_type": "code",
   "execution_count": 136,
   "metadata": {},
   "outputs": [
    {
     "data": {
      "text/plain": [
       "[{'type': 'retweeted', 'id': '1332378126643589123'}]"
      ]
     },
     "execution_count": 136,
     "metadata": {},
     "output_type": "execute_result"
    }
   ],
   "source": [
    "data.referenced_tweets.iloc[10]"
   ]
  },
  {
   "cell_type": "code",
   "execution_count": 111,
   "metadata": {},
   "outputs": [
    {
     "data": {
      "text/plain": [
       "0           1.0\n",
       "1           1.0\n",
       "2          22.0\n",
       "3           0.0\n",
       "4        3854.0\n",
       "          ...  \n",
       "10197      64.0\n",
       "10198       7.0\n",
       "10199      37.0\n",
       "10200     200.0\n",
       "10201       0.0\n",
       "Name: retweet_count, Length: 59558, dtype: float64"
      ]
     },
     "execution_count": 111,
     "metadata": {},
     "output_type": "execute_result"
    }
   ],
   "source": [
    "data['retweet_count']"
   ]
  },
  {
   "cell_type": "code",
   "execution_count": 224,
   "metadata": {},
   "outputs": [
    {
     "data": {
      "text/plain": [
       "Index(['entities', 'text', 'referenced_tweets', 'possibly_sensitive', 'id',\n",
       "       'created_at', 'author_id', 'context_annotations', 'geo', 'users',\n",
       "       'tweets', 'places', 'newest_id', 'oldest_id', 'result_count',\n",
       "       'next_token', 'retweet_count', 'reply_count', 'like_count',\n",
       "       'quote_count', 'hashtags'],\n",
       "      dtype='object')"
      ]
     },
     "execution_count": 224,
     "metadata": {},
     "output_type": "execute_result"
    }
   ],
   "source": [
    "data.columns"
   ]
  },
  {
   "cell_type": "code",
   "execution_count": 69,
   "metadata": {},
   "outputs": [
    {
     "data": {
      "text/plain": [
       "pandas.core.series.Series"
      ]
     },
     "execution_count": 69,
     "metadata": {},
     "output_type": "execute_result"
    }
   ],
   "source": [
    "type(data.public_metrics)"
   ]
  },
  {
   "cell_type": "code",
   "execution_count": 68,
   "metadata": {},
   "outputs": [
    {
     "data": {
      "text/plain": [
       "0        NaN\n",
       "1        NaN\n",
       "2        NaN\n",
       "3        NaN\n",
       "4        NaN\n",
       "        ... \n",
       "10197    NaN\n",
       "10198    NaN\n",
       "10199    NaN\n",
       "10200    NaN\n",
       "10201    NaN\n",
       "Name: public_metrics, Length: 59558, dtype: object"
      ]
     },
     "execution_count": 68,
     "metadata": {},
     "output_type": "execute_result"
    }
   ],
   "source": [
    "data.public_metrics.str.extract(r'[retweet_count](\\d)', expand=False)"
   ]
  },
  {
   "cell_type": "markdown",
   "metadata": {},
   "source": [
    "## Fetch and Clean Data"
   ]
  },
  {
   "cell_type": "markdown",
   "metadata": {},
   "source": [
    "Use the functions you've created above to collect all the tweets"
   ]
  },
  {
   "cell_type": "markdown",
   "metadata": {},
   "source": [
    "dates_list = [\"2020-10-01\", \"2020-10-08\",\n",
    "              \"2020-10-15\", \"2020-10-22\", \"2020-10-29\",\n",
    "              \"2020-11-05\", \"2020-11-12\",\n",
    "              \"2020-11-19\", \"2020-11-26\",\n",
    "              \"2017-11-30\"]\n",
    "\n",
    "tweets_df = create_tweets_df(dates_list)\n",
    "tweets_df.shape"
   ]
  },
  {
   "cell_type": "markdown",
   "metadata": {},
   "source": [
    "Make sure to save the tweets after this process, use a file format that won't comprimise the characters in tweets"
   ]
  },
  {
   "cell_type": "code",
   "execution_count": null,
   "metadata": {},
   "outputs": [],
   "source": [
    "tweets_df.to_csv(\"./data/endsars_tweets.csv\", index=False)"
   ]
  },
  {
   "cell_type": "code",
   "execution_count": null,
   "metadata": {},
   "outputs": [],
   "source": [
    "def delete_duplicates(df):\n",
    "    \"\"\"\n",
    "    Create a function that looks at the tweets in the tweets dataframe and other characters and delete \n",
    "    duplicates as sometimes we can get duplicate data/tweets. For example if I tweet something and someone else\n",
    "    retweets it then this could possibly be a duplicate. Is this useful information? You need to decide of course.\n",
    "    \"\"\"\n",
    "\n",
    "def preprocess_tweet(tweet):\n",
    "    \"\"\"\n",
    "    Create a function that preprocess the text in a single tweet. Suggestions for this function are:\n",
    "    - correct all multiple white spaces to a single white space\n",
    "    - convert all urls to string \"URL\"\n",
    "    - if the username isn't relevant then convert @username to \"AT_USER\"\n",
    "    - converts emoji's to text description of the emoji\n",
    "    \"\"\""
   ]
  },
  {
   "cell_type": "code",
   "execution_count": null,
   "metadata": {
    "scrolled": true
   },
   "outputs": [],
   "source": [
    "tweets_df = delete_duplicates(tweets_to_analyse)\n",
    "tweets_df.reset_index(inplace=True, drop=True)\n",
    "tweets_df['text_clean'] = tweets_df['text'].apply(preprocess_tweet)"
   ]
  },
  {
   "cell_type": "markdown",
   "metadata": {},
   "source": [
    "## Tweets Analysis\n",
    "\n",
    "Now it's time to analyse this data to try and get some interesting insights. Below are some questions you can answer to get started but the best Data Scientists are creative thinkers so think out of th ebox to decide what will be interesting insight"
   ]
  },
  {
   "cell_type": "markdown",
   "metadata": {},
   "source": [
    "**What locations in Nigeria and around the world were the hashtags popular?**"
   ]
  },
  {
   "cell_type": "code",
   "execution_count": null,
   "metadata": {},
   "outputs": [],
   "source": []
  },
  {
   "cell_type": "markdown",
   "metadata": {},
   "source": [
    "**How far did the hashtag reach and how deep was this reach?**"
   ]
  },
  {
   "cell_type": "code",
   "execution_count": null,
   "metadata": {},
   "outputs": [],
   "source": []
  },
  {
   "cell_type": "markdown",
   "metadata": {},
   "source": [
    "**When the did movement start on social media? When did it reach critical mass?**"
   ]
  },
  {
   "cell_type": "code",
   "execution_count": null,
   "metadata": {},
   "outputs": [],
   "source": []
  },
  {
   "cell_type": "markdown",
   "metadata": {},
   "source": [
    "**What were the most popular words or terms used during the movement?**"
   ]
  },
  {
   "cell_type": "code",
   "execution_count": null,
   "metadata": {},
   "outputs": [],
   "source": []
  },
  {
   "cell_type": "markdown",
   "metadata": {},
   "source": [
    "**Who were the key influences and proponents involved in the movement?**"
   ]
  },
  {
   "cell_type": "code",
   "execution_count": null,
   "metadata": {},
   "outputs": [],
   "source": []
  },
  {
   "cell_type": "markdown",
   "metadata": {},
   "source": [
    "**What was the most popular tweet?**"
   ]
  },
  {
   "cell_type": "code",
   "execution_count": null,
   "metadata": {},
   "outputs": [],
   "source": []
  },
  {
   "cell_type": "markdown",
   "metadata": {},
   "source": [
    "**What is the general sentiment of the tweets about the movement? How has this changed from the start of the movement till now?**"
   ]
  },
  {
   "cell_type": "code",
   "execution_count": null,
   "metadata": {},
   "outputs": [],
   "source": []
  },
  {
   "cell_type": "markdown",
   "metadata": {},
   "source": [
    "**Were there any bots or bad actors spreading fake news around the movement?**"
   ]
  },
  {
   "cell_type": "code",
   "execution_count": null,
   "metadata": {},
   "outputs": [],
   "source": []
  },
  {
   "cell_type": "markdown",
   "metadata": {},
   "source": [
    "**What are some examples of this fake news?**"
   ]
  },
  {
   "cell_type": "code",
   "execution_count": null,
   "metadata": {},
   "outputs": [],
   "source": [
    "tweet_fields=('author_id,context_annotations,created_at,entities,geo,id,public_metrics,possibly_sensitive,referenced_tweets,text'),\n",
    "    user_fields=('id,location,name,public_metrics,username,verified'),\n",
    "    place_fields=('country,full_name,geo,name,place_type'),\n",
    "    expansions=('author_id,referenced_tweets.id,geo.place_id,referenced_tweets.id.author_id'),\n",
    "    stringify=True)\n"
   ]
  },
  {
   "cell_type": "markdown",
   "metadata": {},
   "source": [
    "## Sentiment Modelling\n",
    "Train model on labelled twitter sentiment data from another dataset\n",
    "<br>Next steps:\n",
    "- Download Sentiment140 data\n",
    "- preprocess tweet data\n",
    "- Apply word embeddings to the text\n",
    "- apply fasttext text classification\n",
    "- Pickle model\n",
    "- Apply model to endsars tweets text"
   ]
  },
  {
   "cell_type": "markdown",
   "metadata": {},
   "source": [
    "### Get data ready for fastText training"
   ]
  },
  {
   "cell_type": "markdown",
   "metadata": {},
   "source": [
    "Save as .txt file for the fastText classifer"
   ]
  },
  {
   "cell_type": "code",
   "execution_count": null,
   "metadata": {},
   "outputs": [],
   "source": [
    "def prep_data(df, filename=\"\"):\n",
    "    \"\"\"\n",
    "    Create a functions that prepares the endsars data in a format that the fasttext model likes\n",
    "    \"\"\""
   ]
  },
  {
   "cell_type": "markdown",
   "metadata": {},
   "source": [
    "**Train Model**"
   ]
  },
  {
   "cell_type": "code",
   "execution_count": null,
   "metadata": {},
   "outputs": [],
   "source": []
  },
  {
   "cell_type": "markdown",
   "metadata": {},
   "source": [
    "**Apply Modelto Test data**"
   ]
  },
  {
   "cell_type": "code",
   "execution_count": null,
   "metadata": {},
   "outputs": [],
   "source": []
  },
  {
   "cell_type": "markdown",
   "metadata": {},
   "source": [
    "**Score Model**"
   ]
  },
  {
   "cell_type": "code",
   "execution_count": null,
   "metadata": {},
   "outputs": [],
   "source": []
  },
  {
   "cell_type": "markdown",
   "metadata": {},
   "source": [
    "**Check labels on example tweets**"
   ]
  },
  {
   "cell_type": "code",
   "execution_count": null,
   "metadata": {},
   "outputs": [],
   "source": []
  },
  {
   "cell_type": "markdown",
   "metadata": {},
   "source": [
    "### Apply trained fastText model to tweets df"
   ]
  },
  {
   "cell_type": "code",
   "execution_count": null,
   "metadata": {
    "scrolled": true
   },
   "outputs": [],
   "source": [
    "tweets_df['ft_predict'] = tweets_df.text.apply(ft_model.predict)\n",
    "tweets_df[\"sentiment\"] = tweets_df.ft_predict.apply(lambda x: 1 if x[0][0] == '__label__positive' else\n",
    "                                                               0)\n",
    "tweets_df['sentiment_prob'] = tweets_df.ft_predict.apply(lambda x: x[1][0])"
   ]
  },
  {
   "cell_type": "code",
   "execution_count": null,
   "metadata": {},
   "outputs": [],
   "source": [
    "def print_tweet_sentiment(index=0):\n",
    "    \"\"\"\n",
    "    Create function where you either pass the index of the tweet in the tweets_df or a tweet and it returns the \n",
    "    sentiment for the tweet\n",
    "    \"\"\""
   ]
  },
  {
   "cell_type": "code",
   "execution_count": null,
   "metadata": {},
   "outputs": [],
   "source": [
    "query = gen_request_parameters(\"EndSARS\",results_per_call=10,start_time=\"2021-02-25\",\n",
    "    tweet_fields=('created_at,conversation_id,referenced_tweets,geo,geo.place_id,context_annotations.entity.id,context_annotations.entity.name,entities.hashtags,public_metrics,possibly_sensitive,text'),\n",
    "    user_fields=('id,location,name,public_metrics,username,verified'),\n",
    "    place_fields=('entities,country,full_name,geo,name,place_type'),\n",
    "    expansions=('author_id,referenced_tweets.id,geo.place_id,referenced_tweets.id,referenced_tweets.id.author_id'),\n",
    "    stringify=True)"
   ]
  }
 ],
 "metadata": {
  "kernelspec": {
   "display_name": "Python [conda env:endsars] *",
   "language": "python",
   "name": "conda-env-endsars-py"
  },
  "language_info": {
   "codemirror_mode": {
    "name": "ipython",
    "version": 3
   },
   "file_extension": ".py",
   "mimetype": "text/x-python",
   "name": "python",
   "nbconvert_exporter": "python",
   "pygments_lexer": "ipython3",
   "version": "3.7.9"
  },
  "toc": {
   "base_numbering": 1,
   "nav_menu": {},
   "number_sections": true,
   "sideBar": true,
   "skip_h1_title": true,
   "title_cell": "Table of Contents",
   "title_sidebar": "Contents",
   "toc_cell": false,
   "toc_position": {},
   "toc_section_display": true,
   "toc_window_display": true
  }
 },
 "nbformat": 4,
 "nbformat_minor": 2
}
